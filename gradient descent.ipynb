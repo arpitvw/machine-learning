{
 "cells": [
  {
   "cell_type": "code",
   "execution_count": 61,
   "metadata": {
    "collapsed": true
   },
   "outputs": [],
   "source": [
    "import numpy as np\n",
    "import pandas as pd\n",
    "import random as rand\n",
    "import math\n",
    "from sklearn.preprocessing import normalize"
   ]
  },
  {
   "cell_type": "code",
   "execution_count": 62,
   "metadata": {
    "collapsed": true
   },
   "outputs": [],
   "source": [
    "def labelconvertor(s):\n",
    "        s = s.strip().lower()\n",
    "        if s == 'm':\n",
    "            return 0\n",
    "        if s == 'b':\n",
    "            return 1\n",
    "        return -1"
   ]
  },
  {
   "cell_type": "code",
   "execution_count": 63,
   "metadata": {
    "collapsed": true
   },
   "outputs": [],
   "source": [
    "def read_data(filename):\n",
    "    return pd.read_csv(filename,header=None,converters={30:labelconvertor})\n",
    "\n",
    "def divide_data(data,ratio):\n",
    "    r=list(range(data.shape[0]))\n",
    "    rand.shuffle(r)\n",
    "    train_max=int(len(r) * ratio)\n",
    "    train_data=[]\n",
    "    test_data=[]\n",
    "    for i in r[:train_max]:\n",
    "        train_data.append(data.values[i])\n",
    "    for i in r[train_max:]:\n",
    "        test_data.append(data.values[i])\n",
    "    return np.array(train_data),np.array(test_data)"
   ]
  },
  {
   "cell_type": "code",
   "execution_count": 76,
   "metadata": {},
   "outputs": [
    {
     "name": "stdout",
     "output_type": "stream",
     "text": [
      "accuracy:  0.3508771929824561\n"
     ]
    }
   ],
   "source": [
    "\n",
    "\n",
    "def intialize_weights(size):\n",
    "    weights=np.zeros(size).reshape(size,1)\n",
    "    return weights\n",
    "\n",
    "def sig(z):\n",
    "    #print(z.shape)\n",
    "    sig =  1/(1+np.exp(-z))\n",
    "    return sig\n",
    "            \n",
    "def cal_error(predict,actual):\n",
    "    #print(\"Predict: \", predict )\n",
    "    L=np.dot(np.transpose(actual),(np.log(predict)))+np.dot(np.transpose(1-actual),(np.log(1-predict)))\n",
    "    return abs(L)\n",
    "\n",
    "def update_weights(alpha,features,predicted_labels,labels,weights):\n",
    "    #print(predicted_labels.shape)\n",
    "    #print (features.shape)\n",
    "    #print(\"labels\",labels.shape)\n",
    "    #a=np.zeros((labels.shape[0],features.shape[1]))\n",
    "    b=np.sum((features*((predicted_labels-labels.reshape(predicted_labels.shape))+np.zeros((features.shape[0],features.shape[1])))),axis=0).reshape(1,features.shape[1])\n",
    "    #print (a.shape)\n",
    "    #print (b.shape)\n",
    "    update_weights=weights - alpha * np.transpose(b)\n",
    "    if np.round(update_weights,2).all== np.round(weights,2).all:\n",
    "        pass\n",
    "    else :\n",
    "       weights = update_weights\n",
    "        \n",
    "    #print (\"update_weights:\",update_weights.shape)\n",
    "    return update_weights\n",
    "\n",
    "def gradient_descent(features,labels,size,alpha,weights):\n",
    "    z = np.dot(features,weights)\n",
    "    #print(\"Z:\", z)\n",
    "    predicted_labels = sig(z)\n",
    "    #print(\"Sig:\",sig)\n",
    "    error = cal_error(predicted_labels,labels)\n",
    "    #print(\"Error: \",error)\n",
    "    weights = update_weights(alpha,features,predicted_labels,labels,weights)\n",
    "    \n",
    "    return weights;\n",
    "\n",
    "#def normalize(data):\n",
    "    \n",
    "def train(data,alpha,iterations):\n",
    "    features,labels = segregate_labels_and_features(data)\n",
    "    data_size = features.shape[0]\n",
    "    features_size = features.shape[1]\n",
    "    weights = intialize_weights(features_size)\n",
    "    for i in range(iterations):\n",
    "        weights_1 = gradient_descent(features,labels,data_size,alpha,weights)\n",
    "        \n",
    "    return weights\n",
    "    \n",
    "def predict(test_features,weights):\n",
    "    a=[]\n",
    "    #print (\"test_features size:\",test_features.shape, \" weights size:\",weights.shape)\n",
    "    z=np.dot(test_features,weights)\n",
    "    for i in sig(z):\n",
    "        #print (i)\n",
    "        if i > 0.5:\n",
    "            a.append(1)\n",
    "        else:\n",
    "            a.append(0)\n",
    "    return a\n",
    "\n",
    "def calc_accuracy(actual,expected):\n",
    "    count=0\n",
    "    for i in (actual-expected):\n",
    "        if i== 0:\n",
    "            count+=1\n",
    "    return count/expected.shape[0]\n",
    "\n",
    "def segregate_labels_and_features(data):\n",
    "    return data[:,:-1],data[:,-1]\n",
    "\n",
    "def normalize_data(data):\n",
    "    return normalize(data,norm='l2',axis=0)\n",
    "    \n",
    "def main():\n",
    "    data = read_data(\"C:/Users/ARPIT/Desktop/Talentsprit/session2/Experiment2/wdbc.data\")  \n",
    "    train_data,test_data = divide_data(data,0.8)\n",
    "    #print (train_data.shape)\n",
    "    test_features,test_labels = segregate_labels_and_features(test_data)\n",
    "    #print (test_features.shape, type(test_features))\n",
    "    test_features=normalize_data(test_features)\n",
    "    weights = train(train_data,0.3,5000)\n",
    "    #print (\"weights:\",weights)\n",
    "    predictions = predict(test_features,weights)\n",
    "    accuracy = calc_accuracy(predictions,test_labels)\n",
    "    print(\"accuracy: \",accuracy)\n",
    "\n",
    "main()"
   ]
  },
  {
   "cell_type": "code",
   "execution_count": 75,
   "metadata": {},
   "outputs": [
    {
     "name": "stdout",
     "output_type": "stream",
     "text": [
      "[[  1.44800000e+01   2.14600000e+01   9.42500000e+01 ...,   1.22500000e-01\n",
      "    3.02000000e-01   6.84600000e-02]\n",
      " [  1.61700000e+01   1.60700000e+01   1.06300000e+02 ...,   1.25100000e-01\n",
      "    3.15300000e-01   8.96000000e-02]\n",
      " [  9.46500000e+00   2.10100000e+01   6.01100000e+01 ...,   6.51700000e-02\n",
      "    2.87800000e-01   9.21100000e-02]\n",
      " ..., \n",
      " [  1.30500000e+01   1.93100000e+01   8.26100000e+01 ...,   1.11100000e-02\n",
      "    2.43900000e-01   6.28900000e-02]\n",
      " [  1.57300000e+01   1.12800000e+01   1.02800000e+02 ...,   1.45200000e-01\n",
      "    2.55700000e-01   8.18100000e-02]\n",
      " [  1.06000000e+01   1.89500000e+01   6.92800000e+01 ...,   7.92600000e-02\n",
      "    2.94000000e-01   7.58700000e-02]]\n"
     ]
    },
    {
     "ename": "NameError",
     "evalue": "name 'logitech' is not defined",
     "output_type": "error",
     "traceback": [
      "\u001b[1;31m---------------------------------------------------------------------------\u001b[0m",
      "\u001b[1;31mNameError\u001b[0m                                 Traceback (most recent call last)",
      "\u001b[1;32m<ipython-input-75-1218520a883e>\u001b[0m in \u001b[0;36m<module>\u001b[1;34m()\u001b[0m\n\u001b[0;32m      6\u001b[0m     \u001b[0mprint\u001b[0m \u001b[1;33m(\u001b[0m\u001b[0mprediction\u001b[0m\u001b[1;33m)\u001b[0m\u001b[1;33m\u001b[0m\u001b[0m\n\u001b[0;32m      7\u001b[0m     \u001b[1;32mreturn\u001b[0m \u001b[1;33m(\u001b[0m\u001b[0mprediction\u001b[0m\u001b[1;33m)\u001b[0m\u001b[1;33m\u001b[0m\u001b[0m\n\u001b[1;32m----> 8\u001b[1;33m \u001b[0msig\u001b[0m\u001b[1;33m(\u001b[0m\u001b[0mtrain_data\u001b[0m\u001b[1;33m[\u001b[0m\u001b[1;33m:\u001b[0m\u001b[1;33m,\u001b[0m\u001b[1;33m:\u001b[0m\u001b[1;33m-\u001b[0m\u001b[1;36m1\u001b[0m\u001b[1;33m]\u001b[0m\u001b[1;33m)\u001b[0m\u001b[1;33m\u001b[0m\u001b[0m\n\u001b[0m",
      "\u001b[1;32m<ipython-input-75-1218520a883e>\u001b[0m in \u001b[0;36msig\u001b[1;34m(data)\u001b[0m\n\u001b[0;32m      3\u001b[0m \u001b[0mprint\u001b[0m\u001b[1;33m(\u001b[0m\u001b[0mtrain_data\u001b[0m\u001b[1;33m[\u001b[0m\u001b[1;33m:\u001b[0m\u001b[1;33m,\u001b[0m\u001b[1;33m:\u001b[0m\u001b[1;33m-\u001b[0m\u001b[1;36m1\u001b[0m\u001b[1;33m]\u001b[0m\u001b[1;33m)\u001b[0m\u001b[1;33m\u001b[0m\u001b[0m\n\u001b[0;32m      4\u001b[0m \u001b[1;32mdef\u001b[0m \u001b[0msig\u001b[0m\u001b[1;33m(\u001b[0m\u001b[0mdata\u001b[0m\u001b[1;33m)\u001b[0m\u001b[1;33m:\u001b[0m\u001b[1;33m\u001b[0m\u001b[0m\n\u001b[1;32m----> 5\u001b[1;33m     \u001b[0mprediction\u001b[0m \u001b[1;33m=\u001b[0m \u001b[1;36m1\u001b[0m\u001b[1;33m/\u001b[0m\u001b[1;33m(\u001b[0m\u001b[1;36m1\u001b[0m\u001b[1;33m+\u001b[0m\u001b[0mnp\u001b[0m\u001b[1;33m.\u001b[0m\u001b[0mexp\u001b[0m\u001b[1;33m(\u001b[0m\u001b[1;33m-\u001b[0m\u001b[0mlogitech\u001b[0m\u001b[1;33m(\u001b[0m\u001b[0mWeights\u001b[0m\u001b[1;33m(\u001b[0m\u001b[0mdata\u001b[0m\u001b[1;33m)\u001b[0m\u001b[1;33m)\u001b[0m\u001b[1;33m)\u001b[0m\u001b[1;33m)\u001b[0m\u001b[1;33m\u001b[0m\u001b[0m\n\u001b[0m\u001b[0;32m      6\u001b[0m     \u001b[0mprint\u001b[0m \u001b[1;33m(\u001b[0m\u001b[0mprediction\u001b[0m\u001b[1;33m)\u001b[0m\u001b[1;33m\u001b[0m\u001b[0m\n\u001b[0;32m      7\u001b[0m     \u001b[1;32mreturn\u001b[0m \u001b[1;33m(\u001b[0m\u001b[0mprediction\u001b[0m\u001b[1;33m)\u001b[0m\u001b[1;33m\u001b[0m\u001b[0m\n",
      "\u001b[1;31mNameError\u001b[0m: name 'logitech' is not defined"
     ]
    }
   ],
   "source": [
    "data = read_data(\"C:/Users/ARPIT/Desktop/Talentsprit/session2/Experiment2/wdbc.data\")\n",
    "train_data,test_data = divide_data(data,0.8)\n",
    "print(train_data[:,:-1])\n",
    "def sig(data):\n",
    "    prediction = 1/(1+np.exp(-logitech(Weights(data))))\n",
    "    print (prediction)\n",
    "    return (prediction)\n",
    "sig(train_data[:,:-1])"
   ]
  },
  {
   "cell_type": "code",
   "execution_count": null,
   "metadata": {
    "collapsed": true
   },
   "outputs": [],
   "source": [
    "1==1"
   ]
  },
  {
   "cell_type": "code",
   "execution_count": null,
   "metadata": {
    "collapsed": true
   },
   "outputs": [],
   "source": []
  }
 ],
 "metadata": {
  "kernelspec": {
   "display_name": "Python 3",
   "language": "python",
   "name": "python3"
  },
  "language_info": {
   "codemirror_mode": {
    "name": "ipython",
    "version": 3
   },
   "file_extension": ".py",
   "mimetype": "text/x-python",
   "name": "python",
   "nbconvert_exporter": "python",
   "pygments_lexer": "ipython3",
   "version": "3.6.1"
  }
 },
 "nbformat": 4,
 "nbformat_minor": 2
}
