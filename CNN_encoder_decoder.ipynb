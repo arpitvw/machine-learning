{
 "cells": [
  {
   "cell_type": "code",
   "execution_count": 1,
   "metadata": {},
   "outputs": [],
   "source": [
    "import torch\n",
    "import torchvision\n",
    "from torchvision import transforms, datasets\n",
    "import torch.nn as nn\n",
    "import torch.nn.functional as F\n",
    "import cv2\n",
    "from tqdm import tqdm \n",
    "import numpy as np\n",
    "import os\n",
    "from torchsummary import summary\n",
    "import PIL\n",
    "import matplotlib.pyplot as plt"
   ]
  },
  {
   "cell_type": "code",
   "execution_count": 2,
   "metadata": {},
   "outputs": [],
   "source": [
    "class Arpit_net(nn.Module):\n",
    "    def __init__(self):\n",
    "        super().__init__()\n",
    "        self.conv1 = nn.Conv2d(1,6,3)\n",
    "        self.conv2 = nn.Conv2d(6,10,3)\n",
    "        self.conv3 = nn.Conv2d(10,20,3)\n",
    "        self.conv4 = nn.Conv2d(20,9,3)\n",
    "        self.max1 = nn.MaxPool2d(2, stride=2, return_indices=True)\n",
    "        self.max2 = nn.MaxPool2d(2, stride=2, return_indices=True)\n",
    "        self.conv5 = nn.Conv2d(9,9,3,padding=(1,1))\n",
    "        self.max3 = nn.MaxPool2d(2, stride=2, return_indices=True)\n",
    "        self.unpool1 = nn.MaxUnpool2d(2, stride=2)\n",
    "        self.tconv1 = nn.Conv2d(9,9,3,padding=(1,1))\n",
    "        self.unpool2 = nn.MaxUnpool2d(2, stride=2)\n",
    "        self.unpool3 = nn.MaxUnpool2d(2, stride=2)\n",
    "        self.tconv2 = nn.Conv2d(9,20,3, padding=(2,2))\n",
    "        self.tconv3 = nn.Conv2d(20,10,3, padding=(2,2))\n",
    "        self.tconv4 = nn.Conv2d(10,6,3, padding=(2,2))\n",
    "        self.tconv5 = nn.Conv2d(6,1,3, padding=(2,2))\n",
    "        \n",
    "        \n",
    "\n",
    "        \n",
    "        \n",
    "    def num_flat_features(self, x):\n",
    "        size = x.size()[1:]  # all dimensions except the batch dimension\n",
    "        num_features = 1\n",
    "        for s in size:\n",
    "            num_features *= s\n",
    "        return num_features\n",
    "        \n",
    "    def forward(self, x):\n",
    "        x = F.relu(self.conv1(x))\n",
    "        x = F.relu(self.conv2(x))\n",
    "        x = F.relu(self.conv3(x))\n",
    "        x = F.relu(self.conv4(x))\n",
    "        x1, self.idc = self.max1(x)\n",
    "        x2, self.indices = self.max2(x1)\n",
    "        x3= F.relu(self.conv5(x2))\n",
    "        x , self.id = self.max3(x3)\n",
    "        print(self.indices.shape)\n",
    "        print(x.shape)\n",
    "        x = self.unpool1(x, self.id ,output_size=x3.shape)\n",
    "        x = F.relu(self.tconv1(x))\n",
    "        x = self.unpool2(x, self.indices)\n",
    "        x = self.unpool3(x, self.idc)\n",
    "        x = F.relu(self.tconv1(x))\n",
    "        x = F.relu(self.tconv2(x))\n",
    "        x = F.relu(self.tconv3(x))\n",
    "        x = F.relu(self.tconv4(x))\n",
    "        x = F.sigmoid(self.tconv5(x))\n",
    "        \n",
    "        \n",
    "        \n",
    "        return x\n",
    "        \n",
    "        "
   ]
  },
  {
   "cell_type": "code",
   "execution_count": 3,
   "metadata": {},
   "outputs": [],
   "source": [
    "r = Arpit_net()"
   ]
  },
  {
   "cell_type": "code",
   "execution_count": 4,
   "metadata": {},
   "outputs": [
    {
     "name": "stdout",
     "output_type": "stream",
     "text": [
      "torch.Size([2, 9, 23, 23])\n",
      "torch.Size([2, 9, 11, 11])\n",
      "----------------------------------------------------------------\n",
      "        Layer (type)               Output Shape         Param #\n",
      "================================================================\n",
      "            Conv2d-1            [-1, 6, 98, 98]              60\n",
      "            Conv2d-2           [-1, 10, 96, 96]             550\n",
      "            Conv2d-3           [-1, 20, 94, 94]           1,820\n",
      "            Conv2d-4            [-1, 9, 92, 92]           1,629\n",
      "         MaxPool2d-5  [[-1, 9, 46, 46], [-1, 9, 46, 46]]               0\n",
      "         MaxPool2d-6  [[-1, 9, 23, 23], [-1, 9, 23, 23]]               0\n",
      "            Conv2d-7            [-1, 9, 23, 23]             738\n",
      "         MaxPool2d-8  [[-1, 9, 11, 11], [-1, 9, 11, 11]]               0\n",
      "       MaxUnpool2d-9            [-1, 9, 23, 23]               0\n",
      "           Conv2d-10            [-1, 9, 23, 23]             738\n",
      "      MaxUnpool2d-11            [-1, 9, 46, 46]               0\n",
      "      MaxUnpool2d-12            [-1, 9, 92, 92]               0\n",
      "           Conv2d-13            [-1, 9, 92, 92]             738\n",
      "           Conv2d-14           [-1, 20, 94, 94]           1,640\n",
      "           Conv2d-15           [-1, 10, 96, 96]           1,810\n",
      "           Conv2d-16            [-1, 6, 98, 98]             546\n",
      "           Conv2d-17          [-1, 1, 100, 100]              55\n",
      "================================================================\n",
      "Total params: 10,324\n",
      "Trainable params: 10,324\n",
      "Non-trainable params: 0\n",
      "----------------------------------------------------------------\n",
      "Input size (MB): 0.04\n",
      "Forward/backward pass size (MB): 2941.91\n",
      "Params size (MB): 0.04\n",
      "Estimated Total Size (MB): 2941.99\n",
      "----------------------------------------------------------------\n"
     ]
    },
    {
     "name": "stderr",
     "output_type": "stream",
     "text": [
      "C:\\Users\\srava\\Anaconda3\\lib\\site-packages\\torch\\nn\\functional.py:1569: UserWarning: nn.functional.sigmoid is deprecated. Use torch.sigmoid instead.\n",
      "  warnings.warn(\"nn.functional.sigmoid is deprecated. Use torch.sigmoid instead.\")\n"
     ]
    }
   ],
   "source": [
    "summary(r, (1,100,100))"
   ]
  },
  {
   "cell_type": "code",
   "execution_count": 5,
   "metadata": {},
   "outputs": [],
   "source": [
    "train_transforms = transforms.Compose([transforms.Resize((100,100)),\n",
    "                                       transforms.Grayscale(num_output_channels=1),\n",
    "                                       transforms.ToTensor(),\n",
    "                                       ])\n",
    "train_data = datasets.ImageFolder(r\"C:\\Users\\srava\\OneDrive\\Desktop\\Arpit_study_material\\Pytorch\\PetImages\",       \n",
    "                    transform=train_transforms)"
   ]
  },
  {
   "cell_type": "code",
   "execution_count": 6,
   "metadata": {},
   "outputs": [],
   "source": [
    "valid_size = .2\n",
    "num_train = len(train_data)\n",
    "indices = list(range(num_train))\n",
    "split = int(np.floor(valid_size * num_train))\n",
    "np.random.shuffle(indices)\n",
    "from torch.utils.data.sampler import SubsetRandomSampler\n",
    "train_idx = indices[split:]\n",
    "train_sampler = SubsetRandomSampler(train_idx)"
   ]
  },
  {
   "cell_type": "code",
   "execution_count": 7,
   "metadata": {},
   "outputs": [],
   "source": [
    "trainloader = torch.utils.data.DataLoader(train_data,\n",
    "                   sampler=train_sampler, batch_size=100)"
   ]
  },
  {
   "cell_type": "code",
   "execution_count": 8,
   "metadata": {},
   "outputs": [
    {
     "name": "stdout",
     "output_type": "stream",
     "text": [
      "torch.Size([1, 100, 100])\n"
     ]
    }
   ],
   "source": [
    "import cv2\n",
    "for i, j in trainloader:\n",
    "    print(i[0].shape)\n",
    "    #print(i[0])\n",
    "    break"
   ]
  },
  {
   "cell_type": "code",
   "execution_count": 9,
   "metadata": {},
   "outputs": [],
   "source": [
    "optimizer = torch.optim.Adam(r.parameters(), lr = 0.01, weight_decay=1e-5)"
   ]
  },
  {
   "cell_type": "code",
   "execution_count": 11,
   "metadata": {},
   "outputs": [],
   "source": [
    "def train_model(train_data, EPOCHS, optimizer, model):\n",
    "    for epoch in range(EPOCHS):\n",
    "        epoch_loss = 0\n",
    "        for X, y in tqdm(trainloader):\n",
    "            model.zero_grad()\n",
    "            output = model(X)\n",
    "            loss = F.mse_loss(output, X)\n",
    "            loss.backward()\n",
    "            optimizer.step()\n",
    "            epoch_loss += loss\n",
    "            torch.no_grad()\n",
    "            for img in output:\n",
    "                \n",
    "                p = transforms.ToPILImage()(img)\n",
    "                p.show()\n",
    "               \n",
    "                break\n",
    "            \n",
    "            print(\"Loss:\",loss)\n",
    "            \n",
    "        print(\"Epoch {} \".format(epoch))\n",
    "            \n",
    "            "
   ]
  },
  {
   "cell_type": "code",
   "execution_count": null,
   "metadata": {},
   "outputs": [
    {
     "name": "stderr",
     "output_type": "stream",
     "text": [
      "\r",
      "  0%|                                                                                          | 0/100 [00:00<?, ?it/s]"
     ]
    },
    {
     "name": "stdout",
     "output_type": "stream",
     "text": [
      "torch.Size([100, 9, 23, 23])\n",
      "torch.Size([100, 9, 11, 11])\n"
     ]
    },
    {
     "name": "stderr",
     "output_type": "stream",
     "text": [
      "\r",
      "  1%|▊                                                                                 | 1/100 [00:08<14:18,  8.67s/it]"
     ]
    },
    {
     "name": "stdout",
     "output_type": "stream",
     "text": [
      "Loss: tensor(0.0624, grad_fn=<MseLossBackward>)\n",
      "torch.Size([100, 9, 23, 23])\n",
      "torch.Size([100, 9, 11, 11])\n"
     ]
    },
    {
     "name": "stderr",
     "output_type": "stream",
     "text": [
      "\r",
      "  2%|█▋                                                                                | 2/100 [00:17<14:02,  8.60s/it]"
     ]
    },
    {
     "name": "stdout",
     "output_type": "stream",
     "text": [
      "Loss: tensor(0.0584, grad_fn=<MseLossBackward>)\n",
      "torch.Size([100, 9, 23, 23])\n",
      "torch.Size([100, 9, 11, 11])\n"
     ]
    },
    {
     "name": "stderr",
     "output_type": "stream",
     "text": [
      "\r",
      "  3%|██▍                                                                               | 3/100 [00:27<14:37,  9.05s/it]"
     ]
    },
    {
     "name": "stdout",
     "output_type": "stream",
     "text": [
      "Loss: tensor(0.0556, grad_fn=<MseLossBackward>)\n"
     ]
    },
    {
     "name": "stderr",
     "output_type": "stream",
     "text": [
      "C:\\Users\\srava\\Anaconda3\\lib\\site-packages\\PIL\\TiffImagePlugin.py:754: UserWarning: Possibly corrupt EXIF data.  Expecting to read 262146 bytes but only got 0. Skipping tag 2\n",
      "  \" Skipping tag %s\" % (size, len(data), tag))\n",
      "C:\\Users\\srava\\Anaconda3\\lib\\site-packages\\PIL\\TiffImagePlugin.py:754: UserWarning: Possibly corrupt EXIF data.  Expecting to read 262151 bytes but only got 0. Skipping tag 56\n",
      "  \" Skipping tag %s\" % (size, len(data), tag))\n",
      "C:\\Users\\srava\\Anaconda3\\lib\\site-packages\\PIL\\TiffImagePlugin.py:771: UserWarning: Corrupt EXIF data.  Expecting to read 12 bytes but only got 0. \n",
      "  warnings.warn(str(msg))\n"
     ]
    },
    {
     "name": "stdout",
     "output_type": "stream",
     "text": [
      "torch.Size([100, 9, 23, 23])\n",
      "torch.Size([100, 9, 11, 11])\n"
     ]
    },
    {
     "name": "stderr",
     "output_type": "stream",
     "text": [
      "\r",
      "  4%|███▎                                                                              | 4/100 [00:38<15:27,  9.66s/it]"
     ]
    },
    {
     "name": "stdout",
     "output_type": "stream",
     "text": [
      "Loss: tensor(0.0571, grad_fn=<MseLossBackward>)\n"
     ]
    }
   ],
   "source": [
    "import time\n",
    "start = time.time()\n",
    "train_model(trainloader,2,optimizer, r)\n",
    "print(time.time()-start)"
   ]
  },
  {
   "cell_type": "code",
   "execution_count": null,
   "metadata": {},
   "outputs": [],
   "source": []
  }
 ],
 "metadata": {
  "kernelspec": {
   "display_name": "Python 3",
   "language": "python",
   "name": "python3"
  },
  "language_info": {
   "codemirror_mode": {
    "name": "ipython",
    "version": 3
   },
   "file_extension": ".py",
   "mimetype": "text/x-python",
   "name": "python",
   "nbconvert_exporter": "python",
   "pygments_lexer": "ipython3",
   "version": "3.7.1"
  }
 },
 "nbformat": 4,
 "nbformat_minor": 2
}
