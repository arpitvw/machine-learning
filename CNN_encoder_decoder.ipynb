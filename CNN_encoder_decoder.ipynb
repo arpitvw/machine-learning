{
 "cells": [
  {
   "cell_type": "code",
   "execution_count": 1,
   "metadata": {},
   "outputs": [],
   "source": [
    "import torch\n",
    "import torchvision\n",
    "from torchvision import transforms, datasets\n",
    "import torch.nn as nn\n",
    "import torch.nn.functional as F\n",
    "import cv2\n",
    "from tqdm import tqdm \n",
    "import numpy as np\n",
    "import os\n",
    "from torchsummary import summary\n",
    "import PIL\n",
    "import matplotlib.pyplot as plt"
   ]
  },
  {
   "cell_type": "code",
   "execution_count": 2,
   "metadata": {},
   "outputs": [],
   "source": [
    "class Arpit_net(nn.Module):\n",
    "    def __init__(self):\n",
    "        super().__init__()\n",
    "        self.conv1 = nn.Conv2d(1,6,3)\n",
    "        self.conv2 = nn.Conv2d(6,10,3)\n",
    "        self.conv3 = nn.Conv2d(10,20,3)\n",
    "        self.conv4 = nn.Conv2d(20,9,3)\n",
    "        self.max1 = nn.MaxPool2d(2, stride=2, return_indices=True)\n",
    "        self.max2 = nn.MaxPool2d(2, stride=2, return_indices=True)\n",
    "        self.conv5 = nn.Conv2d(9,9,3,padding=(1,1))\n",
    "        self.max3 = nn.MaxPool2d(2, stride=2, return_indices=True)\n",
    "        self.unpool1 = nn.MaxUnpool2d(2, stride=2)\n",
    "        self.tconv1 = nn.Conv2d(9,9,3,padding=(1,1))\n",
    "        self.unpool2 = nn.MaxUnpool2d(2, stride=2)\n",
    "        self.unpool3 = nn.MaxUnpool2d(2, stride=2)\n",
    "        self.tconv2 = nn.Conv2d(9,20,3, padding=(2,2))\n",
    "        self.tconv3 = nn.Conv2d(20,10,3, padding=(2,2))\n",
    "        self.tconv4 = nn.Conv2d(10,6,3, padding=(2,2))\n",
    "        self.tconv5 = nn.Conv2d(6,1,3, padding=(2,2))\n",
    "        \n",
    "        \n",
    "\n",
    "        \n",
    "        \n",
    "    def num_flat_features(self, x):\n",
    "        size = x.size()[1:]  # all dimensions except the batch dimension\n",
    "        num_features = 1\n",
    "        for s in size:\n",
    "            num_features *= s\n",
    "        return num_features\n",
    "        \n",
    "    def forward(self, x):\n",
    "        x = F.relu(self.conv1(x))\n",
    "        x = F.relu(self.conv2(x))\n",
    "        x = F.relu(self.conv3(x))\n",
    "        x = F.relu(self.conv4(x))\n",
    "        x1, self.idc = self.max1(x)\n",
    "        x2, self.indices = self.max2(x1)\n",
    "        x3= F.relu(self.conv5(x2))\n",
    "        x , self.id = self.max3(x3)\n",
    "        print(self.indices.shape)\n",
    "        print(x.shape)\n",
    "        x = self.unpool1(x, self.id ,output_size=x3.shape)\n",
    "        x = F.relu(self.tconv1(x))\n",
    "        x = self.unpool2(x, self.indices)\n",
    "        x = self.unpool3(x, self.idc)\n",
    "        x = F.relu(self.tconv1(x))\n",
    "        x = F.relu(self.tconv2(x))\n",
    "        x = F.relu(self.tconv3(x))\n",
    "        x = F.relu(self.tconv4(x))\n",
    "        x = F.sigmoid(self.tconv5(x))\n",
    "        \n",
    "        \n",
    "        \n",
    "        return x\n",
    "        \n",
    "        "
   ]
  },
  {
   "cell_type": "code",
   "execution_count": 3,
   "metadata": {},
   "outputs": [],
   "source": [
    "r = Arpit_net()"
   ]
  },
  {
   "cell_type": "code",
   "execution_count": 4,
   "metadata": {},
   "outputs": [
    {
     "name": "stdout",
     "output_type": "stream",
     "text": [
      "torch.Size([2, 9, 23, 23])\n",
      "torch.Size([2, 9, 11, 11])\n",
      "----------------------------------------------------------------\n",
      "        Layer (type)               Output Shape         Param #\n",
      "================================================================\n",
      "            Conv2d-1            [-1, 6, 98, 98]              60\n",
      "            Conv2d-2           [-1, 10, 96, 96]             550\n",
      "            Conv2d-3           [-1, 20, 94, 94]           1,820\n",
      "            Conv2d-4            [-1, 9, 92, 92]           1,629\n",
      "         MaxPool2d-5  [[-1, 9, 46, 46], [-1, 9, 46, 46]]               0\n",
      "         MaxPool2d-6  [[-1, 9, 23, 23], [-1, 9, 23, 23]]               0\n",
      "            Conv2d-7            [-1, 9, 23, 23]             738\n",
      "         MaxPool2d-8  [[-1, 9, 11, 11], [-1, 9, 11, 11]]               0\n",
      "       MaxUnpool2d-9            [-1, 9, 23, 23]               0\n",
      "           Conv2d-10            [-1, 9, 23, 23]             738\n",
      "      MaxUnpool2d-11            [-1, 9, 46, 46]               0\n",
      "      MaxUnpool2d-12            [-1, 9, 92, 92]               0\n",
      "           Conv2d-13            [-1, 9, 92, 92]             738\n",
      "           Conv2d-14           [-1, 20, 94, 94]           1,640\n",
      "           Conv2d-15           [-1, 10, 96, 96]           1,810\n",
      "           Conv2d-16            [-1, 6, 98, 98]             546\n",
      "           Conv2d-17          [-1, 1, 100, 100]              55\n",
      "================================================================\n",
      "Total params: 10,324\n",
      "Trainable params: 10,324\n",
      "Non-trainable params: 0\n",
      "----------------------------------------------------------------\n",
      "Input size (MB): 0.04\n",
      "Forward/backward pass size (MB): 2941.91\n",
      "Params size (MB): 0.04\n",
      "Estimated Total Size (MB): 2941.99\n",
      "----------------------------------------------------------------\n"
     ]
    },
    {
     "name": "stderr",
     "output_type": "stream",
     "text": [
      "C:\\Users\\srava\\Anaconda3\\lib\\site-packages\\torch\\nn\\functional.py:1569: UserWarning: nn.functional.sigmoid is deprecated. Use torch.sigmoid instead.\n",
      "  warnings.warn(\"nn.functional.sigmoid is deprecated. Use torch.sigmoid instead.\")\n"
     ]
    }
   ],
   "source": [
    "summary(r, (1,100,100))"
   ]
  },
  {
   "cell_type": "code",
   "execution_count": 5,
   "metadata": {},
   "outputs": [],
   "source": [
    "train_transforms = transforms.Compose([transforms.Resize((100,100)),\n",
    "                                       transforms.Grayscale(num_output_channels=1),\n",
    "                                       transforms.ToTensor(),\n",
    "                                       ])\n",
    "train_data = datasets.ImageFolder(r\"C:\\Users\\srava\\OneDrive\\Desktop\\Arpit_study_material\\Pytorch\\PetImages\",       \n",
    "                    transform=train_transforms)"
   ]
  },
  {
   "cell_type": "code",
   "execution_count": 6,
   "metadata": {},
   "outputs": [],
   "source": [
    "valid_size = .2\n",
    "num_train = len(train_data)\n",
    "indices = list(range(num_train))\n",
    "split = int(np.floor(valid_size * num_train))\n",
    "np.random.shuffle(indices)\n",
    "from torch.utils.data.sampler import SubsetRandomSampler\n",
    "train_idx = indices[split:]\n",
    "train_sampler = SubsetRandomSampler(train_idx)"
   ]
  },
  {
   "cell_type": "code",
   "execution_count": 7,
   "metadata": {},
   "outputs": [],
   "source": [
    "trainloader = torch.utils.data.DataLoader(train_data,\n",
    "                   sampler=train_sampler, batch_size=100)"
   ]
  },
  {
   "cell_type": "code",
   "execution_count": 8,
   "metadata": {},
   "outputs": [
    {
     "name": "stdout",
     "output_type": "stream",
     "text": [
      "torch.Size([1, 100, 100])\n"
     ]
    }
   ],
   "source": [
    "import cv2\n",
    "for i, j in trainloader:\n",
    "    print(i[0].shape)\n",
    "    #print(i[0])\n",
    "    break"
   ]
  },
  {
   "cell_type": "code",
   "execution_count": 9,
   "metadata": {},
   "outputs": [],
   "source": [
    "optimizer = torch.optim.Adam(r.parameters(), lr = 0.01, weight_decay=1e-5)"
   ]
  },
  {
   "cell_type": "code",
   "execution_count": 11,
   "metadata": {},
   "outputs": [],
   "source": [
    "def train_model(train_data, EPOCHS, optimizer, model):\n",
    "    for epoch in range(EPOCHS):\n",
    "        epoch_loss = 0\n",
    "        for X, y in tqdm(trainloader):\n",
    "            model.zero_grad()\n",
    "            output = model(X)\n",
    "            loss = F.mse_loss(output, X)\n",
    "            loss.backward()\n",
    "            optimizer.step()\n",
    "            epoch_loss += loss\n",
    "\n",
    "            for img in output:\n",
    "                \n",
    "                p = transforms.ToPILImage()(img)\n",
    "                p.show()\n",
    "               \n",
    "                break\n",
    "            \n",
    "            print(\"Loss:\",loss)\n",
    "            \n",
    "        print(\"Epoch {} \".format(epoch))\n",
    "            \n",
    "            "
   ]
  },
  {
   "cell_type": "code",
   "execution_count": 12,
   "metadata": {},
   "outputs": [
    {
     "name": "stderr",
     "output_type": "stream",
     "text": [
      "\r",
      "  0%|                                                                                          | 0/100 [00:00<?, ?it/s]"
     ]
    },
    {
     "name": "stdout",
     "output_type": "stream",
     "text": [
      "torch.Size([100, 9, 23, 23])\n",
      "torch.Size([100, 9, 11, 11])\n"
     ]
    },
    {
     "name": "stderr",
     "output_type": "stream",
     "text": [
      "\r",
      "  1%|▊                                                                                 | 1/100 [00:17<29:23, 17.81s/it]"
     ]
    },
    {
     "name": "stdout",
     "output_type": "stream",
     "text": [
      "Loss: tensor(0.0608, grad_fn=<MseLossBackward>)\n",
      "torch.Size([100, 9, 23, 23])\n",
      "torch.Size([100, 9, 11, 11])\n"
     ]
    },
    {
     "name": "stderr",
     "output_type": "stream",
     "text": [
      "\r",
      "  2%|█▋                                                                                | 2/100 [00:26<24:27, 14.98s/it]"
     ]
    },
    {
     "name": "stdout",
     "output_type": "stream",
     "text": [
      "Loss: tensor(0.0634, grad_fn=<MseLossBackward>)\n",
      "torch.Size([100, 9, 23, 23])\n",
      "torch.Size([100, 9, 11, 11])\n"
     ]
    },
    {
     "name": "stderr",
     "output_type": "stream",
     "text": [
      "\r",
      "  3%|██▍                                                                               | 3/100 [00:33<20:36, 12.74s/it]"
     ]
    },
    {
     "name": "stdout",
     "output_type": "stream",
     "text": [
      "Loss: tensor(0.0583, grad_fn=<MseLossBackward>)\n",
      "torch.Size([100, 9, 23, 23])\n",
      "torch.Size([100, 9, 11, 11])\n"
     ]
    },
    {
     "name": "stderr",
     "output_type": "stream",
     "text": [
      "\r",
      "  4%|███▎                                                                              | 4/100 [00:41<17:53, 11.18s/it]"
     ]
    },
    {
     "name": "stdout",
     "output_type": "stream",
     "text": [
      "Loss: tensor(0.0577, grad_fn=<MseLossBackward>)\n",
      "torch.Size([100, 9, 23, 23])\n",
      "torch.Size([100, 9, 11, 11])\n"
     ]
    },
    {
     "name": "stderr",
     "output_type": "stream",
     "text": [
      "\r",
      "  5%|████                                                                              | 5/100 [00:48<15:55, 10.06s/it]"
     ]
    },
    {
     "name": "stdout",
     "output_type": "stream",
     "text": [
      "Loss: tensor(0.0546, grad_fn=<MseLossBackward>)\n",
      "torch.Size([100, 9, 23, 23])\n",
      "torch.Size([100, 9, 11, 11])\n"
     ]
    },
    {
     "name": "stderr",
     "output_type": "stream",
     "text": [
      "\r",
      "  6%|████▉                                                                             | 6/100 [00:56<14:29,  9.25s/it]"
     ]
    },
    {
     "name": "stdout",
     "output_type": "stream",
     "text": [
      "Loss: tensor(0.0525, grad_fn=<MseLossBackward>)\n",
      "torch.Size([100, 9, 23, 23])\n",
      "torch.Size([100, 9, 11, 11])\n"
     ]
    },
    {
     "name": "stderr",
     "output_type": "stream",
     "text": [
      "\r",
      "  7%|█████▋                                                                            | 7/100 [01:03<13:38,  8.81s/it]"
     ]
    },
    {
     "name": "stdout",
     "output_type": "stream",
     "text": [
      "Loss: tensor(0.0602, grad_fn=<MseLossBackward>)\n",
      "torch.Size([100, 9, 23, 23])\n",
      "torch.Size([100, 9, 11, 11])\n"
     ]
    },
    {
     "name": "stderr",
     "output_type": "stream",
     "text": [
      "\r",
      "  8%|██████▌                                                                           | 8/100 [01:11<12:57,  8.45s/it]"
     ]
    },
    {
     "name": "stdout",
     "output_type": "stream",
     "text": [
      "Loss: tensor(0.0566, grad_fn=<MseLossBackward>)\n",
      "torch.Size([100, 9, 23, 23])\n",
      "torch.Size([100, 9, 11, 11])\n"
     ]
    },
    {
     "name": "stderr",
     "output_type": "stream",
     "text": [
      "\r",
      "  9%|███████▍                                                                          | 9/100 [01:19<12:25,  8.19s/it]"
     ]
    },
    {
     "name": "stdout",
     "output_type": "stream",
     "text": [
      "Loss: tensor(0.0602, grad_fn=<MseLossBackward>)\n",
      "torch.Size([100, 9, 23, 23])\n",
      "torch.Size([100, 9, 11, 11])\n"
     ]
    },
    {
     "name": "stderr",
     "output_type": "stream",
     "text": [
      "\r",
      " 10%|████████                                                                         | 10/100 [01:26<12:01,  8.02s/it]"
     ]
    },
    {
     "name": "stdout",
     "output_type": "stream",
     "text": [
      "Loss: tensor(0.0572, grad_fn=<MseLossBackward>)\n",
      "torch.Size([100, 9, 23, 23])\n",
      "torch.Size([100, 9, 11, 11])\n"
     ]
    },
    {
     "name": "stderr",
     "output_type": "stream",
     "text": [
      "\r",
      " 11%|████████▉                                                                        | 11/100 [01:34<11:44,  7.91s/it]"
     ]
    },
    {
     "name": "stdout",
     "output_type": "stream",
     "text": [
      "Loss: tensor(0.0599, grad_fn=<MseLossBackward>)\n",
      "torch.Size([100, 9, 23, 23])\n",
      "torch.Size([100, 9, 11, 11])\n"
     ]
    },
    {
     "name": "stderr",
     "output_type": "stream",
     "text": [
      "\r",
      " 12%|█████████▋                                                                       | 12/100 [01:41<11:24,  7.78s/it]"
     ]
    },
    {
     "name": "stdout",
     "output_type": "stream",
     "text": [
      "Loss: tensor(0.0581, grad_fn=<MseLossBackward>)\n",
      "torch.Size([100, 9, 23, 23])\n",
      "torch.Size([100, 9, 11, 11])\n"
     ]
    },
    {
     "name": "stderr",
     "output_type": "stream",
     "text": [
      "\r",
      " 13%|██████████▌                                                                      | 13/100 [01:49<11:13,  7.74s/it]"
     ]
    },
    {
     "name": "stdout",
     "output_type": "stream",
     "text": [
      "Loss: tensor(0.0579, grad_fn=<MseLossBackward>)\n",
      "torch.Size([100, 9, 23, 23])\n",
      "torch.Size([100, 9, 11, 11])\n"
     ]
    },
    {
     "name": "stderr",
     "output_type": "stream",
     "text": [
      "\r",
      " 14%|███████████▎                                                                     | 14/100 [01:57<11:07,  7.76s/it]"
     ]
    },
    {
     "name": "stdout",
     "output_type": "stream",
     "text": [
      "Loss: tensor(0.0507, grad_fn=<MseLossBackward>)\n",
      "torch.Size([100, 9, 23, 23])\n",
      "torch.Size([100, 9, 11, 11])\n"
     ]
    },
    {
     "name": "stderr",
     "output_type": "stream",
     "text": [
      "\r",
      " 15%|████████████▏                                                                    | 15/100 [02:05<11:06,  7.84s/it]"
     ]
    },
    {
     "name": "stdout",
     "output_type": "stream",
     "text": [
      "Loss: tensor(0.0546, grad_fn=<MseLossBackward>)\n",
      "torch.Size([100, 9, 23, 23])\n",
      "torch.Size([100, 9, 11, 11])\n"
     ]
    },
    {
     "name": "stderr",
     "output_type": "stream",
     "text": [
      "\r",
      " 16%|████████████▉                                                                    | 16/100 [02:12<10:53,  7.78s/it]"
     ]
    },
    {
     "name": "stdout",
     "output_type": "stream",
     "text": [
      "Loss: tensor(0.0571, grad_fn=<MseLossBackward>)\n",
      "torch.Size([100, 9, 23, 23])\n",
      "torch.Size([100, 9, 11, 11])\n"
     ]
    },
    {
     "name": "stderr",
     "output_type": "stream",
     "text": [
      "\r",
      " 17%|█████████████▊                                                                   | 17/100 [02:20<10:42,  7.74s/it]"
     ]
    },
    {
     "name": "stdout",
     "output_type": "stream",
     "text": [
      "Loss: tensor(0.0535, grad_fn=<MseLossBackward>)\n",
      "torch.Size([100, 9, 23, 23])\n",
      "torch.Size([100, 9, 11, 11])\n"
     ]
    },
    {
     "name": "stderr",
     "output_type": "stream",
     "text": [
      "\r",
      " 18%|██████████████▌                                                                  | 18/100 [02:28<10:38,  7.78s/it]"
     ]
    },
    {
     "name": "stdout",
     "output_type": "stream",
     "text": [
      "Loss: tensor(0.0498, grad_fn=<MseLossBackward>)\n",
      "torch.Size([100, 9, 23, 23])\n",
      "torch.Size([100, 9, 11, 11])\n"
     ]
    },
    {
     "name": "stderr",
     "output_type": "stream",
     "text": [
      "\r",
      " 19%|███████████████▍                                                                 | 19/100 [02:36<10:30,  7.78s/it]"
     ]
    },
    {
     "name": "stdout",
     "output_type": "stream",
     "text": [
      "Loss: tensor(0.0431, grad_fn=<MseLossBackward>)\n",
      "torch.Size([100, 9, 23, 23])\n",
      "torch.Size([100, 9, 11, 11])\n"
     ]
    },
    {
     "name": "stderr",
     "output_type": "stream",
     "text": [
      "\r",
      " 20%|████████████████▏                                                                | 20/100 [02:46<11:19,  8.49s/it]"
     ]
    },
    {
     "name": "stdout",
     "output_type": "stream",
     "text": [
      "Loss: tensor(0.0433, grad_fn=<MseLossBackward>)\n",
      "torch.Size([100, 9, 23, 23])\n",
      "torch.Size([100, 9, 11, 11])\n"
     ]
    },
    {
     "name": "stderr",
     "output_type": "stream",
     "text": [
      "\r",
      " 21%|█████████████████                                                                | 21/100 [02:55<11:23,  8.66s/it]"
     ]
    },
    {
     "name": "stdout",
     "output_type": "stream",
     "text": [
      "Loss: tensor(0.0423, grad_fn=<MseLossBackward>)\n",
      "torch.Size([100, 9, 23, 23])\n",
      "torch.Size([100, 9, 11, 11])\n"
     ]
    },
    {
     "name": "stderr",
     "output_type": "stream",
     "text": [
      "\r",
      " 22%|█████████████████▊                                                               | 22/100 [03:03<11:06,  8.55s/it]"
     ]
    },
    {
     "name": "stdout",
     "output_type": "stream",
     "text": [
      "Loss: tensor(0.0397, grad_fn=<MseLossBackward>)\n",
      "torch.Size([100, 9, 23, 23])\n",
      "torch.Size([100, 9, 11, 11])\n"
     ]
    },
    {
     "name": "stderr",
     "output_type": "stream",
     "text": [
      "\r",
      " 23%|██████████████████▋                                                              | 23/100 [03:11<10:45,  8.39s/it]"
     ]
    },
    {
     "name": "stdout",
     "output_type": "stream",
     "text": [
      "Loss: tensor(0.0385, grad_fn=<MseLossBackward>)\n",
      "torch.Size([100, 9, 23, 23])\n",
      "torch.Size([100, 9, 11, 11])\n"
     ]
    },
    {
     "name": "stderr",
     "output_type": "stream",
     "text": [
      "\r",
      " 24%|███████████████████▍                                                             | 24/100 [03:19<10:34,  8.35s/it]"
     ]
    },
    {
     "name": "stdout",
     "output_type": "stream",
     "text": [
      "Loss: tensor(0.0410, grad_fn=<MseLossBackward>)\n",
      "torch.Size([100, 9, 23, 23])\n",
      "torch.Size([100, 9, 11, 11])\n"
     ]
    },
    {
     "name": "stderr",
     "output_type": "stream",
     "text": [
      "\r",
      " 25%|████████████████████▎                                                            | 25/100 [03:28<10:40,  8.53s/it]"
     ]
    },
    {
     "name": "stdout",
     "output_type": "stream",
     "text": [
      "Loss: tensor(0.0376, grad_fn=<MseLossBackward>)\n",
      "torch.Size([100, 9, 23, 23])\n",
      "torch.Size([100, 9, 11, 11])\n"
     ]
    },
    {
     "name": "stderr",
     "output_type": "stream",
     "text": [
      "\r",
      " 26%|█████████████████████                                                            | 26/100 [03:38<11:00,  8.93s/it]"
     ]
    },
    {
     "name": "stdout",
     "output_type": "stream",
     "text": [
      "Loss: tensor(0.0395, grad_fn=<MseLossBackward>)\n",
      "torch.Size([100, 9, 23, 23])\n",
      "torch.Size([100, 9, 11, 11])\n"
     ]
    },
    {
     "name": "stderr",
     "output_type": "stream",
     "text": [
      "\r",
      " 27%|█████████████████████▊                                                           | 27/100 [03:50<11:47,  9.69s/it]"
     ]
    },
    {
     "name": "stdout",
     "output_type": "stream",
     "text": [
      "Loss: tensor(0.0371, grad_fn=<MseLossBackward>)\n",
      "torch.Size([100, 9, 23, 23])\n",
      "torch.Size([100, 9, 11, 11])\n"
     ]
    },
    {
     "name": "stderr",
     "output_type": "stream",
     "text": [
      "\r",
      " 28%|██████████████████████▋                                                          | 28/100 [04:02<12:34, 10.48s/it]"
     ]
    },
    {
     "name": "stdout",
     "output_type": "stream",
     "text": [
      "Loss: tensor(0.0367, grad_fn=<MseLossBackward>)\n",
      "torch.Size([100, 9, 23, 23])\n",
      "torch.Size([100, 9, 11, 11])\n"
     ]
    },
    {
     "name": "stderr",
     "output_type": "stream",
     "text": [
      "\r",
      " 29%|███████████████████████▍                                                         | 29/100 [04:13<12:31, 10.59s/it]"
     ]
    },
    {
     "name": "stdout",
     "output_type": "stream",
     "text": [
      "Loss: tensor(0.0372, grad_fn=<MseLossBackward>)\n",
      "torch.Size([100, 9, 23, 23])\n",
      "torch.Size([100, 9, 11, 11])\n"
     ]
    },
    {
     "name": "stderr",
     "output_type": "stream",
     "text": [
      "\r",
      " 30%|████████████████████████▎                                                        | 30/100 [04:21<11:38,  9.98s/it]"
     ]
    },
    {
     "name": "stdout",
     "output_type": "stream",
     "text": [
      "Loss: tensor(0.0318, grad_fn=<MseLossBackward>)\n",
      "torch.Size([100, 9, 23, 23])\n",
      "torch.Size([100, 9, 11, 11])\n"
     ]
    },
    {
     "name": "stderr",
     "output_type": "stream",
     "text": [
      "\r",
      " 31%|█████████████████████████                                                        | 31/100 [04:29<10:47,  9.38s/it]"
     ]
    },
    {
     "name": "stdout",
     "output_type": "stream",
     "text": [
      "Loss: tensor(0.0317, grad_fn=<MseLossBackward>)\n",
      "torch.Size([100, 9, 23, 23])\n",
      "torch.Size([100, 9, 11, 11])\n"
     ]
    },
    {
     "name": "stderr",
     "output_type": "stream",
     "text": [
      "\r",
      " 32%|█████████████████████████▉                                                       | 32/100 [04:39<10:45,  9.50s/it]"
     ]
    },
    {
     "name": "stdout",
     "output_type": "stream",
     "text": [
      "Loss: tensor(0.0392, grad_fn=<MseLossBackward>)\n",
      "torch.Size([100, 9, 23, 23])\n",
      "torch.Size([100, 9, 11, 11])\n"
     ]
    },
    {
     "name": "stderr",
     "output_type": "stream",
     "text": [
      "\r",
      " 33%|██████████████████████████▋                                                      | 33/100 [04:49<10:40,  9.57s/it]"
     ]
    },
    {
     "name": "stdout",
     "output_type": "stream",
     "text": [
      "Loss: tensor(0.0338, grad_fn=<MseLossBackward>)\n",
      "torch.Size([100, 9, 23, 23])\n",
      "torch.Size([100, 9, 11, 11])\n"
     ]
    },
    {
     "name": "stderr",
     "output_type": "stream",
     "text": [
      "\r",
      " 34%|███████████████████████████▌                                                     | 34/100 [04:58<10:16,  9.33s/it]"
     ]
    },
    {
     "name": "stdout",
     "output_type": "stream",
     "text": [
      "Loss: tensor(0.0348, grad_fn=<MseLossBackward>)\n",
      "torch.Size([100, 9, 23, 23])\n",
      "torch.Size([100, 9, 11, 11])\n"
     ]
    },
    {
     "name": "stderr",
     "output_type": "stream",
     "text": [
      "\r",
      " 35%|████████████████████████████▎                                                    | 35/100 [05:07<10:12,  9.42s/it]"
     ]
    },
    {
     "name": "stdout",
     "output_type": "stream",
     "text": [
      "Loss: tensor(0.0339, grad_fn=<MseLossBackward>)\n",
      "torch.Size([100, 9, 23, 23])\n",
      "torch.Size([100, 9, 11, 11])\n"
     ]
    },
    {
     "name": "stderr",
     "output_type": "stream",
     "text": [
      "\r",
      " 36%|█████████████████████████████▏                                                   | 36/100 [05:16<09:42,  9.11s/it]"
     ]
    },
    {
     "name": "stdout",
     "output_type": "stream",
     "text": [
      "Loss: tensor(0.0322, grad_fn=<MseLossBackward>)\n",
      "torch.Size([100, 9, 23, 23])\n",
      "torch.Size([100, 9, 11, 11])\n"
     ]
    },
    {
     "name": "stderr",
     "output_type": "stream",
     "text": [
      "\r",
      " 37%|█████████████████████████████▉                                                   | 37/100 [05:24<09:18,  8.87s/it]"
     ]
    },
    {
     "name": "stdout",
     "output_type": "stream",
     "text": [
      "Loss: tensor(0.0318, grad_fn=<MseLossBackward>)\n",
      "torch.Size([100, 9, 23, 23])\n",
      "torch.Size([100, 9, 11, 11])\n"
     ]
    },
    {
     "name": "stderr",
     "output_type": "stream",
     "text": [
      "\r",
      " 38%|██████████████████████████████▊                                                  | 38/100 [05:34<09:26,  9.15s/it]"
     ]
    },
    {
     "name": "stdout",
     "output_type": "stream",
     "text": [
      "Loss: tensor(0.0312, grad_fn=<MseLossBackward>)\n",
      "torch.Size([100, 9, 23, 23])\n",
      "torch.Size([100, 9, 11, 11])\n"
     ]
    },
    {
     "name": "stderr",
     "output_type": "stream",
     "text": [
      "\r",
      " 39%|███████████████████████████████▌                                                 | 39/100 [06:00<14:22, 14.13s/it]"
     ]
    },
    {
     "name": "stdout",
     "output_type": "stream",
     "text": [
      "Loss: tensor(0.0305, grad_fn=<MseLossBackward>)\n"
     ]
    },
    {
     "name": "stderr",
     "output_type": "stream",
     "text": [
      "C:\\Users\\srava\\Anaconda3\\lib\\site-packages\\PIL\\TiffImagePlugin.py:754: UserWarning: Possibly corrupt EXIF data.  Expecting to read 32 bytes but only got 0. Skipping tag 270\n",
      "  \" Skipping tag %s\" % (size, len(data), tag))\n",
      "C:\\Users\\srava\\Anaconda3\\lib\\site-packages\\PIL\\TiffImagePlugin.py:754: UserWarning: Possibly corrupt EXIF data.  Expecting to read 5 bytes but only got 0. Skipping tag 271\n",
      "  \" Skipping tag %s\" % (size, len(data), tag))\n",
      "C:\\Users\\srava\\Anaconda3\\lib\\site-packages\\PIL\\TiffImagePlugin.py:754: UserWarning: Possibly corrupt EXIF data.  Expecting to read 8 bytes but only got 0. Skipping tag 272\n",
      "  \" Skipping tag %s\" % (size, len(data), tag))\n",
      "C:\\Users\\srava\\Anaconda3\\lib\\site-packages\\PIL\\TiffImagePlugin.py:754: UserWarning: Possibly corrupt EXIF data.  Expecting to read 8 bytes but only got 0. Skipping tag 282\n",
      "  \" Skipping tag %s\" % (size, len(data), tag))\n",
      "C:\\Users\\srava\\Anaconda3\\lib\\site-packages\\PIL\\TiffImagePlugin.py:754: UserWarning: Possibly corrupt EXIF data.  Expecting to read 8 bytes but only got 0. Skipping tag 283\n",
      "  \" Skipping tag %s\" % (size, len(data), tag))\n",
      "C:\\Users\\srava\\Anaconda3\\lib\\site-packages\\PIL\\TiffImagePlugin.py:754: UserWarning: Possibly corrupt EXIF data.  Expecting to read 20 bytes but only got 0. Skipping tag 306\n",
      "  \" Skipping tag %s\" % (size, len(data), tag))\n",
      "C:\\Users\\srava\\Anaconda3\\lib\\site-packages\\PIL\\TiffImagePlugin.py:754: UserWarning: Possibly corrupt EXIF data.  Expecting to read 48 bytes but only got 0. Skipping tag 532\n",
      "  \" Skipping tag %s\" % (size, len(data), tag))\n",
      "C:\\Users\\srava\\Anaconda3\\lib\\site-packages\\PIL\\TiffImagePlugin.py:771: UserWarning: Corrupt EXIF data.  Expecting to read 2 bytes but only got 0. \n",
      "  warnings.warn(str(msg))\n"
     ]
    },
    {
     "name": "stdout",
     "output_type": "stream",
     "text": [
      "torch.Size([100, 9, 23, 23])\n",
      "torch.Size([100, 9, 11, 11])\n"
     ]
    },
    {
     "name": "stderr",
     "output_type": "stream",
     "text": [
      "\r",
      " 40%|████████████████████████████████▍                                                | 40/100 [06:17<15:05, 15.08s/it]"
     ]
    },
    {
     "name": "stdout",
     "output_type": "stream",
     "text": [
      "Loss: tensor(0.0326, grad_fn=<MseLossBackward>)\n",
      "torch.Size([100, 9, 23, 23])\n",
      "torch.Size([100, 9, 11, 11])\n"
     ]
    },
    {
     "name": "stderr",
     "output_type": "stream",
     "text": [
      "\r",
      " 41%|█████████████████████████████████▏                                               | 41/100 [06:26<13:06, 13.33s/it]"
     ]
    },
    {
     "name": "stdout",
     "output_type": "stream",
     "text": [
      "Loss: tensor(0.0334, grad_fn=<MseLossBackward>)\n",
      "torch.Size([100, 9, 23, 23])\n",
      "torch.Size([100, 9, 11, 11])\n"
     ]
    },
    {
     "name": "stderr",
     "output_type": "stream",
     "text": [
      "\r",
      " 42%|██████████████████████████████████                                               | 42/100 [06:35<11:32, 11.94s/it]"
     ]
    },
    {
     "name": "stdout",
     "output_type": "stream",
     "text": [
      "Loss: tensor(0.0315, grad_fn=<MseLossBackward>)\n",
      "torch.Size([100, 9, 23, 23])\n",
      "torch.Size([100, 9, 11, 11])\n"
     ]
    },
    {
     "name": "stderr",
     "output_type": "stream",
     "text": [
      "\r",
      " 43%|██████████████████████████████████▊                                              | 43/100 [06:44<10:30, 11.06s/it]"
     ]
    },
    {
     "name": "stdout",
     "output_type": "stream",
     "text": [
      "Loss: tensor(0.0305, grad_fn=<MseLossBackward>)\n",
      "torch.Size([100, 9, 23, 23])\n",
      "torch.Size([100, 9, 11, 11])\n"
     ]
    },
    {
     "name": "stderr",
     "output_type": "stream",
     "text": [
      "\r",
      " 44%|███████████████████████████████████▋                                             | 44/100 [06:53<09:45, 10.45s/it]"
     ]
    },
    {
     "name": "stdout",
     "output_type": "stream",
     "text": [
      "Loss: tensor(0.0289, grad_fn=<MseLossBackward>)\n",
      "torch.Size([100, 9, 23, 23])\n",
      "torch.Size([100, 9, 11, 11])\n"
     ]
    },
    {
     "name": "stderr",
     "output_type": "stream",
     "text": [
      "\r",
      " 45%|████████████████████████████████████▍                                            | 45/100 [07:01<08:59,  9.81s/it]"
     ]
    },
    {
     "name": "stdout",
     "output_type": "stream",
     "text": [
      "Loss: tensor(0.0291, grad_fn=<MseLossBackward>)\n",
      "torch.Size([100, 9, 23, 23])\n",
      "torch.Size([100, 9, 11, 11])\n"
     ]
    },
    {
     "name": "stderr",
     "output_type": "stream",
     "text": [
      "\r",
      " 46%|█████████████████████████████████████▎                                           | 46/100 [07:09<08:19,  9.25s/it]"
     ]
    },
    {
     "name": "stdout",
     "output_type": "stream",
     "text": [
      "Loss: tensor(0.0299, grad_fn=<MseLossBackward>)\n",
      "torch.Size([100, 9, 23, 23])\n",
      "torch.Size([100, 9, 11, 11])\n"
     ]
    },
    {
     "name": "stderr",
     "output_type": "stream",
     "text": [
      "\r",
      " 47%|██████████████████████████████████████                                           | 47/100 [07:17<07:49,  8.86s/it]"
     ]
    },
    {
     "name": "stdout",
     "output_type": "stream",
     "text": [
      "Loss: tensor(0.0296, grad_fn=<MseLossBackward>)\n",
      "torch.Size([100, 9, 23, 23])\n",
      "torch.Size([100, 9, 11, 11])\n"
     ]
    },
    {
     "name": "stderr",
     "output_type": "stream",
     "text": [
      "\r",
      " 48%|██████████████████████████████████████▉                                          | 48/100 [07:25<07:27,  8.60s/it]"
     ]
    },
    {
     "name": "stdout",
     "output_type": "stream",
     "text": [
      "Loss: tensor(0.0281, grad_fn=<MseLossBackward>)\n",
      "torch.Size([100, 9, 23, 23])\n",
      "torch.Size([100, 9, 11, 11])\n"
     ]
    },
    {
     "name": "stderr",
     "output_type": "stream",
     "text": [
      "\r",
      " 49%|███████████████████████████████████████▋                                         | 49/100 [07:33<07:07,  8.38s/it]"
     ]
    },
    {
     "name": "stdout",
     "output_type": "stream",
     "text": [
      "Loss: tensor(0.0307, grad_fn=<MseLossBackward>)\n",
      "torch.Size([100, 9, 23, 23])\n",
      "torch.Size([100, 9, 11, 11])\n"
     ]
    },
    {
     "name": "stderr",
     "output_type": "stream",
     "text": [
      "\r",
      " 50%|████████████████████████████████████████▌                                        | 50/100 [07:41<06:52,  8.25s/it]"
     ]
    },
    {
     "name": "stdout",
     "output_type": "stream",
     "text": [
      "Loss: tensor(0.0280, grad_fn=<MseLossBackward>)\n",
      "torch.Size([100, 9, 23, 23])\n",
      "torch.Size([100, 9, 11, 11])\n"
     ]
    },
    {
     "name": "stderr",
     "output_type": "stream",
     "text": [
      "\r",
      " 51%|█████████████████████████████████████████▎                                       | 51/100 [07:49<06:43,  8.24s/it]"
     ]
    },
    {
     "name": "stdout",
     "output_type": "stream",
     "text": [
      "Loss: tensor(0.0302, grad_fn=<MseLossBackward>)\n",
      "torch.Size([100, 9, 23, 23])\n",
      "torch.Size([100, 9, 11, 11])\n"
     ]
    },
    {
     "name": "stderr",
     "output_type": "stream",
     "text": [
      "\r",
      " 52%|██████████████████████████████████████████                                       | 52/100 [07:57<06:33,  8.20s/it]"
     ]
    },
    {
     "name": "stdout",
     "output_type": "stream",
     "text": [
      "Loss: tensor(0.0297, grad_fn=<MseLossBackward>)\n",
      "torch.Size([100, 9, 23, 23])\n",
      "torch.Size([100, 9, 11, 11])\n"
     ]
    },
    {
     "name": "stderr",
     "output_type": "stream",
     "text": [
      "\r",
      " 53%|██████████████████████████████████████████▉                                      | 53/100 [08:06<06:27,  8.23s/it]"
     ]
    },
    {
     "name": "stdout",
     "output_type": "stream",
     "text": [
      "Loss: tensor(0.0320, grad_fn=<MseLossBackward>)\n",
      "torch.Size([100, 9, 23, 23])\n",
      "torch.Size([100, 9, 11, 11])\n"
     ]
    },
    {
     "name": "stderr",
     "output_type": "stream",
     "text": [
      "\r",
      " 54%|███████████████████████████████████████████▋                                     | 54/100 [08:14<06:17,  8.20s/it]"
     ]
    },
    {
     "name": "stdout",
     "output_type": "stream",
     "text": [
      "Loss: tensor(0.0373, grad_fn=<MseLossBackward>)\n",
      "torch.Size([100, 9, 23, 23])\n",
      "torch.Size([100, 9, 11, 11])\n"
     ]
    },
    {
     "name": "stderr",
     "output_type": "stream",
     "text": [
      "\r",
      " 55%|████████████████████████████████████████████▌                                    | 55/100 [08:22<06:06,  8.13s/it]"
     ]
    },
    {
     "name": "stdout",
     "output_type": "stream",
     "text": [
      "Loss: tensor(0.0357, grad_fn=<MseLossBackward>)\n",
      "torch.Size([100, 9, 23, 23])\n",
      "torch.Size([100, 9, 11, 11])\n"
     ]
    },
    {
     "name": "stderr",
     "output_type": "stream",
     "text": [
      "\r",
      " 56%|█████████████████████████████████████████████▎                                   | 56/100 [08:29<05:53,  8.03s/it]"
     ]
    },
    {
     "name": "stdout",
     "output_type": "stream",
     "text": [
      "Loss: tensor(0.0314, grad_fn=<MseLossBackward>)\n",
      "torch.Size([100, 9, 23, 23])\n",
      "torch.Size([100, 9, 11, 11])\n"
     ]
    },
    {
     "name": "stderr",
     "output_type": "stream",
     "text": [
      "\r",
      " 57%|██████████████████████████████████████████████▏                                  | 57/100 [08:38<05:47,  8.09s/it]"
     ]
    },
    {
     "name": "stdout",
     "output_type": "stream",
     "text": [
      "Loss: tensor(0.0370, grad_fn=<MseLossBackward>)\n",
      "torch.Size([100, 9, 23, 23])\n",
      "torch.Size([100, 9, 11, 11])\n"
     ]
    },
    {
     "name": "stderr",
     "output_type": "stream",
     "text": [
      "\r",
      " 58%|██████████████████████████████████████████████▉                                  | 58/100 [08:46<05:39,  8.08s/it]"
     ]
    },
    {
     "name": "stdout",
     "output_type": "stream",
     "text": [
      "Loss: tensor(0.0337, grad_fn=<MseLossBackward>)\n",
      "torch.Size([100, 9, 23, 23])\n",
      "torch.Size([100, 9, 11, 11])\n"
     ]
    },
    {
     "name": "stderr",
     "output_type": "stream",
     "text": [
      "\r",
      " 59%|███████████████████████████████████████████████▊                                 | 59/100 [08:53<05:27,  7.99s/it]"
     ]
    },
    {
     "name": "stdout",
     "output_type": "stream",
     "text": [
      "Loss: tensor(0.0293, grad_fn=<MseLossBackward>)\n",
      "torch.Size([100, 9, 23, 23])\n",
      "torch.Size([100, 9, 11, 11])\n"
     ]
    },
    {
     "name": "stderr",
     "output_type": "stream",
     "text": [
      "\r",
      " 60%|████████████████████████████████████████████████▌                                | 60/100 [09:02<05:24,  8.11s/it]"
     ]
    },
    {
     "name": "stdout",
     "output_type": "stream",
     "text": [
      "Loss: tensor(0.0355, grad_fn=<MseLossBackward>)\n",
      "torch.Size([100, 9, 23, 23])\n",
      "torch.Size([100, 9, 11, 11])\n"
     ]
    },
    {
     "name": "stderr",
     "output_type": "stream",
     "text": [
      "\r",
      " 61%|█████████████████████████████████████████████████▍                               | 61/100 [09:11<05:29,  8.44s/it]"
     ]
    },
    {
     "name": "stdout",
     "output_type": "stream",
     "text": [
      "Loss: tensor(0.0351, grad_fn=<MseLossBackward>)\n",
      "torch.Size([100, 9, 23, 23])\n",
      "torch.Size([100, 9, 11, 11])\n"
     ]
    },
    {
     "name": "stderr",
     "output_type": "stream",
     "text": [
      "\r",
      " 62%|██████████████████████████████████████████████████▏                              | 62/100 [09:20<05:26,  8.60s/it]"
     ]
    },
    {
     "name": "stdout",
     "output_type": "stream",
     "text": [
      "Loss: tensor(0.0304, grad_fn=<MseLossBackward>)\n",
      "torch.Size([100, 9, 23, 23])\n",
      "torch.Size([100, 9, 11, 11])\n"
     ]
    },
    {
     "name": "stderr",
     "output_type": "stream",
     "text": [
      "\r",
      " 63%|███████████████████████████████████████████████████                              | 63/100 [09:40<07:29, 12.15s/it]"
     ]
    },
    {
     "name": "stdout",
     "output_type": "stream",
     "text": [
      "Loss: tensor(0.0316, grad_fn=<MseLossBackward>)\n",
      "torch.Size([100, 9, 23, 23])\n",
      "torch.Size([100, 9, 11, 11])\n"
     ]
    },
    {
     "name": "stderr",
     "output_type": "stream",
     "text": [
      "\r",
      " 64%|███████████████████████████████████████████████████▊                             | 64/100 [09:48<06:30, 10.85s/it]"
     ]
    },
    {
     "name": "stdout",
     "output_type": "stream",
     "text": [
      "Loss: tensor(0.0357, grad_fn=<MseLossBackward>)\n",
      "torch.Size([100, 9, 23, 23])\n",
      "torch.Size([100, 9, 11, 11])\n"
     ]
    },
    {
     "name": "stderr",
     "output_type": "stream",
     "text": [
      "\r",
      " 65%|████████████████████████████████████████████████████▋                            | 65/100 [09:56<05:47,  9.93s/it]"
     ]
    },
    {
     "name": "stdout",
     "output_type": "stream",
     "text": [
      "Loss: tensor(0.0281, grad_fn=<MseLossBackward>)\n",
      "torch.Size([100, 9, 23, 23])\n",
      "torch.Size([100, 9, 11, 11])\n"
     ]
    },
    {
     "name": "stderr",
     "output_type": "stream",
     "text": [
      "\r",
      " 66%|█████████████████████████████████████████████████████▍                           | 66/100 [10:04<05:20,  9.43s/it]"
     ]
    },
    {
     "name": "stdout",
     "output_type": "stream",
     "text": [
      "Loss: tensor(0.0310, grad_fn=<MseLossBackward>)\n",
      "torch.Size([100, 9, 23, 23])\n",
      "torch.Size([100, 9, 11, 11])\n"
     ]
    },
    {
     "name": "stderr",
     "output_type": "stream",
     "text": [
      "\r",
      " 67%|██████████████████████████████████████████████████████▎                          | 67/100 [10:13<04:58,  9.05s/it]"
     ]
    },
    {
     "name": "stdout",
     "output_type": "stream",
     "text": [
      "Loss: tensor(0.0291, grad_fn=<MseLossBackward>)\n",
      "torch.Size([100, 9, 23, 23])\n",
      "torch.Size([100, 9, 11, 11])\n"
     ]
    },
    {
     "name": "stderr",
     "output_type": "stream",
     "text": [
      "\r",
      " 68%|███████████████████████████████████████████████████████                          | 68/100 [10:21<04:48,  9.02s/it]"
     ]
    },
    {
     "name": "stdout",
     "output_type": "stream",
     "text": [
      "Loss: tensor(0.0304, grad_fn=<MseLossBackward>)\n"
     ]
    },
    {
     "name": "stderr",
     "output_type": "stream",
     "text": [
      "C:\\Users\\srava\\Anaconda3\\lib\\site-packages\\PIL\\TiffImagePlugin.py:754: UserWarning: Possibly corrupt EXIF data.  Expecting to read 209715200 bytes but only got 0. Skipping tag 48\n",
      "  \" Skipping tag %s\" % (size, len(data), tag))\n",
      "C:\\Users\\srava\\Anaconda3\\lib\\site-packages\\PIL\\TiffImagePlugin.py:754: UserWarning: Possibly corrupt EXIF data.  Expecting to read 52428800 bytes but only got 0. Skipping tag 0\n",
      "  \" Skipping tag %s\" % (size, len(data), tag))\n",
      "C:\\Users\\srava\\Anaconda3\\lib\\site-packages\\PIL\\TiffImagePlugin.py:754: UserWarning: Possibly corrupt EXIF data.  Expecting to read 6468665344 bytes but only got 0. Skipping tag 0\n",
      "  \" Skipping tag %s\" % (size, len(data), tag))\n",
      "C:\\Users\\srava\\Anaconda3\\lib\\site-packages\\PIL\\TiffImagePlugin.py:754: UserWarning: Possibly corrupt EXIF data.  Expecting to read 1050744 bytes but only got 7027. Skipping tag 48\n",
      "  \" Skipping tag %s\" % (size, len(data), tag))\n",
      "C:\\Users\\srava\\Anaconda3\\lib\\site-packages\\PIL\\TiffImagePlugin.py:754: UserWarning: Possibly corrupt EXIF data.  Expecting to read 422313984 bytes but only got 0. Skipping tag 5\n",
      "  \" Skipping tag %s\" % (size, len(data), tag))\n",
      "C:\\Users\\srava\\Anaconda3\\lib\\site-packages\\PIL\\TiffImagePlugin.py:754: UserWarning: Possibly corrupt EXIF data.  Expecting to read 422838272 bytes but only got 0. Skipping tag 5\n",
      "  \" Skipping tag %s\" % (size, len(data), tag))\n",
      "C:\\Users\\srava\\Anaconda3\\lib\\site-packages\\PIL\\TiffImagePlugin.py:754: UserWarning: Possibly corrupt EXIF data.  Expecting to read 3368026112 bytes but only got 0. Skipping tag 7\n",
      "  \" Skipping tag %s\" % (size, len(data), tag))\n",
      "C:\\Users\\srava\\Anaconda3\\lib\\site-packages\\PIL\\TiffImagePlugin.py:754: UserWarning: Possibly corrupt EXIF data.  Expecting to read 134479872 bytes but only got 0. Skipping tag 7\n",
      "  \" Skipping tag %s\" % (size, len(data), tag))\n",
      "C:\\Users\\srava\\Anaconda3\\lib\\site-packages\\PIL\\TiffImagePlugin.py:754: UserWarning: Possibly corrupt EXIF data.  Expecting to read 428867584 bytes but only got 0. Skipping tag 10\n",
      "  \" Skipping tag %s\" % (size, len(data), tag))\n",
      "C:\\Users\\srava\\Anaconda3\\lib\\site-packages\\PIL\\TiffImagePlugin.py:754: UserWarning: Possibly corrupt EXIF data.  Expecting to read 429391872 bytes but only got 0. Skipping tag 5\n",
      "  \" Skipping tag %s\" % (size, len(data), tag))\n",
      "C:\\Users\\srava\\Anaconda3\\lib\\site-packages\\PIL\\TiffImagePlugin.py:754: UserWarning: Possibly corrupt EXIF data.  Expecting to read 2031616 bytes but only got 0. Skipping tag 3\n",
      "  \" Skipping tag %s\" % (size, len(data), tag))\n",
      "C:\\Users\\srava\\Anaconda3\\lib\\site-packages\\PIL\\TiffImagePlugin.py:754: UserWarning: Possibly corrupt EXIF data.  Expecting to read 429916160 bytes but only got 0. Skipping tag 5\n",
      "  \" Skipping tag %s\" % (size, len(data), tag))\n",
      "C:\\Users\\srava\\Anaconda3\\lib\\site-packages\\PIL\\TiffImagePlugin.py:754: UserWarning: Possibly corrupt EXIF data.  Expecting to read 3300917248 bytes but only got 0. Skipping tag 7\n",
      "  \" Skipping tag %s\" % (size, len(data), tag))\n",
      "C:\\Users\\srava\\Anaconda3\\lib\\site-packages\\PIL\\TiffImagePlugin.py:754: UserWarning: Possibly corrupt EXIF data.  Expecting to read 65536 bytes but only got 0. Skipping tag 3\n",
      "  \" Skipping tag %s\" % (size, len(data), tag))\n",
      "C:\\Users\\srava\\Anaconda3\\lib\\site-packages\\PIL\\TiffImagePlugin.py:754: UserWarning: Possibly corrupt EXIF data.  Expecting to read 21299200 bytes but only got 0. Skipping tag 4\n",
      "  \" Skipping tag %s\" % (size, len(data), tag))\n",
      "C:\\Users\\srava\\Anaconda3\\lib\\site-packages\\PIL\\TiffImagePlugin.py:754: UserWarning: Possibly corrupt EXIF data.  Expecting to read 24313856 bytes but only got 0. Skipping tag 4\n",
      "  \" Skipping tag %s\" % (size, len(data), tag))\n",
      "C:\\Users\\srava\\Anaconda3\\lib\\site-packages\\PIL\\TiffImagePlugin.py:754: UserWarning: Possibly corrupt EXIF data.  Expecting to read 453771264 bytes but only got 7032. Skipping tag 4\n",
      "  \" Skipping tag %s\" % (size, len(data), tag))\n",
      "C:\\Users\\srava\\Anaconda3\\lib\\site-packages\\PIL\\TiffImagePlugin.py:754: UserWarning: Possibly corrupt EXIF data.  Expecting to read 131073 bytes but only got 7028. Skipping tag 0\n",
      "  \" Skipping tag %s\" % (size, len(data), tag))\n",
      "C:\\Users\\srava\\Anaconda3\\lib\\site-packages\\PIL\\TiffImagePlugin.py:754: UserWarning: Possibly corrupt EXIF data.  Expecting to read 393216 bytes but only got 0. Skipping tag 3\n",
      "  \" Skipping tag %s\" % (size, len(data), tag))\n",
      "C:\\Users\\srava\\Anaconda3\\lib\\site-packages\\PIL\\TiffImagePlugin.py:754: UserWarning: Possibly corrupt EXIF data.  Expecting to read 416415744 bytes but only got 0. Skipping tag 5\n",
      "  \" Skipping tag %s\" % (size, len(data), tag))\n",
      "C:\\Users\\srava\\Anaconda3\\lib\\site-packages\\PIL\\TiffImagePlugin.py:754: UserWarning: Possibly corrupt EXIF data.  Expecting to read 416940032 bytes but only got 0. Skipping tag 5\n",
      "  \" Skipping tag %s\" % (size, len(data), tag))\n",
      "C:\\Users\\srava\\Anaconda3\\lib\\site-packages\\PIL\\TiffImagePlugin.py:754: UserWarning: Possibly corrupt EXIF data.  Expecting to read 131072 bytes but only got 0. Skipping tag 3\n",
      "  \" Skipping tag %s\" % (size, len(data), tag))\n",
      "C:\\Users\\srava\\Anaconda3\\lib\\site-packages\\PIL\\TiffImagePlugin.py:754: UserWarning: Possibly corrupt EXIF data.  Expecting to read 524288 bytes but only got 0. Skipping tag 4\n",
      "  \" Skipping tag %s\" % (size, len(data), tag))\n",
      "C:\\Users\\srava\\Anaconda3\\lib\\site-packages\\PIL\\TiffImagePlugin.py:754: UserWarning: Possibly corrupt EXIF data.  Expecting to read 415825920 bytes but only got 7032. Skipping tag 4\n",
      "  \" Skipping tag %s\" % (size, len(data), tag))\n",
      "C:\\Users\\srava\\Anaconda3\\lib\\site-packages\\PIL\\TiffImagePlugin.py:771: UserWarning: Corrupt EXIF data.  Expecting to read 12 bytes but only got 2. \n",
      "  warnings.warn(str(msg))\n"
     ]
    },
    {
     "name": "stdout",
     "output_type": "stream",
     "text": [
      "torch.Size([100, 9, 23, 23])\n",
      "torch.Size([100, 9, 11, 11])\n"
     ]
    },
    {
     "name": "stderr",
     "output_type": "stream",
     "text": [
      "\r",
      " 69%|███████████████████████████████████████████████████████▉                         | 69/100 [10:29<04:28,  8.65s/it]"
     ]
    },
    {
     "name": "stdout",
     "output_type": "stream",
     "text": [
      "Loss: tensor(0.0308, grad_fn=<MseLossBackward>)\n",
      "torch.Size([100, 9, 23, 23])\n",
      "torch.Size([100, 9, 11, 11])\n"
     ]
    },
    {
     "name": "stderr",
     "output_type": "stream",
     "text": [
      "\r",
      " 70%|████████████████████████████████████████████████████████▋                        | 70/100 [10:37<04:10,  8.36s/it]"
     ]
    },
    {
     "name": "stdout",
     "output_type": "stream",
     "text": [
      "Loss: tensor(0.0276, grad_fn=<MseLossBackward>)\n",
      "torch.Size([100, 9, 23, 23])\n",
      "torch.Size([100, 9, 11, 11])\n"
     ]
    },
    {
     "name": "stderr",
     "output_type": "stream",
     "text": [
      "\r",
      " 71%|█████████████████████████████████████████████████████████▌                       | 71/100 [10:45<03:58,  8.21s/it]"
     ]
    },
    {
     "name": "stdout",
     "output_type": "stream",
     "text": [
      "Loss: tensor(0.0278, grad_fn=<MseLossBackward>)\n",
      "torch.Size([100, 9, 23, 23])\n",
      "torch.Size([100, 9, 11, 11])\n"
     ]
    },
    {
     "name": "stderr",
     "output_type": "stream",
     "text": [
      "\r",
      " 72%|██████████████████████████████████████████████████████████▎                      | 72/100 [10:53<03:46,  8.09s/it]"
     ]
    },
    {
     "name": "stdout",
     "output_type": "stream",
     "text": [
      "Loss: tensor(0.0271, grad_fn=<MseLossBackward>)\n",
      "torch.Size([100, 9, 23, 23])\n",
      "torch.Size([100, 9, 11, 11])\n"
     ]
    },
    {
     "name": "stderr",
     "output_type": "stream",
     "text": [
      "\r",
      " 73%|███████████████████████████████████████████████████████████▏                     | 73/100 [11:01<03:39,  8.11s/it]"
     ]
    },
    {
     "name": "stdout",
     "output_type": "stream",
     "text": [
      "Loss: tensor(0.0291, grad_fn=<MseLossBackward>)\n",
      "torch.Size([100, 9, 23, 23])\n",
      "torch.Size([100, 9, 11, 11])\n"
     ]
    },
    {
     "name": "stderr",
     "output_type": "stream",
     "text": [
      "\r",
      " 74%|███████████████████████████████████████████████████████████▉                     | 74/100 [11:08<03:26,  7.95s/it]"
     ]
    },
    {
     "name": "stdout",
     "output_type": "stream",
     "text": [
      "Loss: tensor(0.0265, grad_fn=<MseLossBackward>)\n",
      "torch.Size([100, 9, 23, 23])\n",
      "torch.Size([100, 9, 11, 11])\n"
     ]
    },
    {
     "name": "stderr",
     "output_type": "stream",
     "text": [
      "\r",
      " 75%|████████████████████████████████████████████████████████████▊                    | 75/100 [11:16<03:18,  7.95s/it]"
     ]
    },
    {
     "name": "stdout",
     "output_type": "stream",
     "text": [
      "Loss: tensor(0.0263, grad_fn=<MseLossBackward>)\n",
      "torch.Size([100, 9, 23, 23])\n",
      "torch.Size([100, 9, 11, 11])\n"
     ]
    },
    {
     "name": "stderr",
     "output_type": "stream",
     "text": [
      "\r",
      " 76%|█████████████████████████████████████████████████████████████▌                   | 76/100 [11:24<03:10,  7.95s/it]"
     ]
    },
    {
     "name": "stdout",
     "output_type": "stream",
     "text": [
      "Loss: tensor(0.0270, grad_fn=<MseLossBackward>)\n",
      "torch.Size([100, 9, 23, 23])\n",
      "torch.Size([100, 9, 11, 11])\n"
     ]
    },
    {
     "name": "stderr",
     "output_type": "stream",
     "text": [
      "\r",
      " 77%|██████████████████████████████████████████████████████████████▎                  | 77/100 [11:32<03:04,  8.01s/it]"
     ]
    },
    {
     "name": "stdout",
     "output_type": "stream",
     "text": [
      "Loss: tensor(0.0264, grad_fn=<MseLossBackward>)\n",
      "torch.Size([100, 9, 23, 23])\n",
      "torch.Size([100, 9, 11, 11])\n"
     ]
    },
    {
     "name": "stderr",
     "output_type": "stream",
     "text": [
      "\r",
      " 78%|███████████████████████████████████████████████████████████████▏                 | 78/100 [11:40<02:56,  8.03s/it]"
     ]
    },
    {
     "name": "stdout",
     "output_type": "stream",
     "text": [
      "Loss: tensor(0.0267, grad_fn=<MseLossBackward>)\n",
      "torch.Size([100, 9, 23, 23])\n",
      "torch.Size([100, 9, 11, 11])\n"
     ]
    },
    {
     "name": "stderr",
     "output_type": "stream",
     "text": [
      "\r",
      " 79%|███████████████████████████████████████████████████████████████▉                 | 79/100 [11:49<02:51,  8.15s/it]"
     ]
    },
    {
     "name": "stdout",
     "output_type": "stream",
     "text": [
      "Loss: tensor(0.0266, grad_fn=<MseLossBackward>)\n",
      "torch.Size([100, 9, 23, 23])\n",
      "torch.Size([100, 9, 11, 11])\n"
     ]
    },
    {
     "name": "stderr",
     "output_type": "stream",
     "text": [
      "\r",
      " 80%|████████████████████████████████████████████████████████████████▊                | 80/100 [11:58<02:47,  8.39s/it]"
     ]
    },
    {
     "name": "stdout",
     "output_type": "stream",
     "text": [
      "Loss: tensor(0.0270, grad_fn=<MseLossBackward>)\n",
      "torch.Size([100, 9, 23, 23])\n",
      "torch.Size([100, 9, 11, 11])\n"
     ]
    },
    {
     "name": "stderr",
     "output_type": "stream",
     "text": [
      "\r",
      " 81%|█████████████████████████████████████████████████████████████████▌               | 81/100 [12:06<02:38,  8.37s/it]"
     ]
    },
    {
     "name": "stdout",
     "output_type": "stream",
     "text": [
      "Loss: tensor(0.0254, grad_fn=<MseLossBackward>)\n",
      "torch.Size([100, 9, 23, 23])\n",
      "torch.Size([100, 9, 11, 11])\n"
     ]
    },
    {
     "name": "stderr",
     "output_type": "stream",
     "text": [
      "\r",
      " 82%|██████████████████████████████████████████████████████████████████▍              | 82/100 [12:15<02:31,  8.41s/it]"
     ]
    },
    {
     "name": "stdout",
     "output_type": "stream",
     "text": [
      "Loss: tensor(0.0247, grad_fn=<MseLossBackward>)\n",
      "torch.Size([100, 9, 23, 23])\n",
      "torch.Size([100, 9, 11, 11])\n"
     ]
    },
    {
     "name": "stderr",
     "output_type": "stream",
     "text": [
      "\r",
      " 83%|███████████████████████████████████████████████████████████████████▏             | 83/100 [12:23<02:23,  8.44s/it]"
     ]
    },
    {
     "name": "stdout",
     "output_type": "stream",
     "text": [
      "Loss: tensor(0.0267, grad_fn=<MseLossBackward>)\n"
     ]
    },
    {
     "name": "stderr",
     "output_type": "stream",
     "text": [
      "C:\\Users\\srava\\Anaconda3\\lib\\site-packages\\PIL\\TiffImagePlugin.py:754: UserWarning: Possibly corrupt EXIF data.  Expecting to read 80000 bytes but only got 0. Skipping tag 64640\n",
      "  \" Skipping tag %s\" % (size, len(data), tag))\n",
      "C:\\Users\\srava\\Anaconda3\\lib\\site-packages\\PIL\\TiffImagePlugin.py:754: UserWarning: Possibly corrupt EXIF data.  Expecting to read 6553600 bytes but only got 0. Skipping tag 49\n",
      "  \" Skipping tag %s\" % (size, len(data), tag))\n",
      "C:\\Users\\srava\\Anaconda3\\lib\\site-packages\\PIL\\TiffImagePlugin.py:754: UserWarning: Possibly corrupt EXIF data.  Expecting to read 1050744 bytes but only got 4951. Skipping tag 51\n",
      "  \" Skipping tag %s\" % (size, len(data), tag))\n",
      "C:\\Users\\srava\\Anaconda3\\lib\\site-packages\\PIL\\TiffImagePlugin.py:754: UserWarning: Possibly corrupt EXIF data.  Expecting to read 293339136 bytes but only got 0. Skipping tag 5\n",
      "  \" Skipping tag %s\" % (size, len(data), tag))\n",
      "C:\\Users\\srava\\Anaconda3\\lib\\site-packages\\PIL\\TiffImagePlugin.py:754: UserWarning: Possibly corrupt EXIF data.  Expecting to read 293863424 bytes but only got 0. Skipping tag 5\n",
      "  \" Skipping tag %s\" % (size, len(data), tag))\n",
      "C:\\Users\\srava\\Anaconda3\\lib\\site-packages\\PIL\\TiffImagePlugin.py:754: UserWarning: Possibly corrupt EXIF data.  Expecting to read 295698432 bytes but only got 0. Skipping tag 10\n",
      "  \" Skipping tag %s\" % (size, len(data), tag))\n",
      "C:\\Users\\srava\\Anaconda3\\lib\\site-packages\\PIL\\TiffImagePlugin.py:754: UserWarning: Possibly corrupt EXIF data.  Expecting to read 296222720 bytes but only got 0. Skipping tag 5\n",
      "  \" Skipping tag %s\" % (size, len(data), tag))\n",
      "C:\\Users\\srava\\Anaconda3\\lib\\site-packages\\PIL\\TiffImagePlugin.py:754: UserWarning: Possibly corrupt EXIF data.  Expecting to read 14745600 bytes but only got 0. Skipping tag 4\n",
      "  \" Skipping tag %s\" % (size, len(data), tag))\n",
      "C:\\Users\\srava\\Anaconda3\\lib\\site-packages\\PIL\\TiffImagePlugin.py:754: UserWarning: Possibly corrupt EXIF data.  Expecting to read 25624576 bytes but only got 0. Skipping tag 4\n",
      "  \" Skipping tag %s\" % (size, len(data), tag))\n",
      "C:\\Users\\srava\\Anaconda3\\lib\\site-packages\\PIL\\TiffImagePlugin.py:754: UserWarning: Possibly corrupt EXIF data.  Expecting to read 317718528 bytes but only got 4956. Skipping tag 4\n",
      "  \" Skipping tag %s\" % (size, len(data), tag))\n",
      "C:\\Users\\srava\\Anaconda3\\lib\\site-packages\\PIL\\TiffImagePlugin.py:754: UserWarning: Possibly corrupt EXIF data.  Expecting to read 131073 bytes but only got 4952. Skipping tag 0\n",
      "  \" Skipping tag %s\" % (size, len(data), tag))\n",
      "C:\\Users\\srava\\Anaconda3\\lib\\site-packages\\PIL\\TiffImagePlugin.py:754: UserWarning: Possibly corrupt EXIF data.  Expecting to read 287178752 bytes but only got 0. Skipping tag 5\n",
      "  \" Skipping tag %s\" % (size, len(data), tag))\n",
      "C:\\Users\\srava\\Anaconda3\\lib\\site-packages\\PIL\\TiffImagePlugin.py:754: UserWarning: Possibly corrupt EXIF data.  Expecting to read 287703040 bytes but only got 0. Skipping tag 5\n",
      "  \" Skipping tag %s\" % (size, len(data), tag))\n",
      "C:\\Users\\srava\\Anaconda3\\lib\\site-packages\\PIL\\TiffImagePlugin.py:754: UserWarning: Possibly corrupt EXIF data.  Expecting to read 286654464 bytes but only got 4956. Skipping tag 4\n",
      "  \" Skipping tag %s\" % (size, len(data), tag))\n"
     ]
    },
    {
     "name": "stdout",
     "output_type": "stream",
     "text": [
      "torch.Size([100, 9, 23, 23])\n",
      "torch.Size([100, 9, 11, 11])\n"
     ]
    },
    {
     "name": "stderr",
     "output_type": "stream",
     "text": [
      "\r",
      " 84%|████████████████████████████████████████████████████████████████████             | 84/100 [12:32<02:18,  8.66s/it]"
     ]
    },
    {
     "name": "stdout",
     "output_type": "stream",
     "text": [
      "Loss: tensor(0.0240, grad_fn=<MseLossBackward>)\n",
      "torch.Size([100, 9, 23, 23])\n",
      "torch.Size([100, 9, 11, 11])\n"
     ]
    },
    {
     "name": "stderr",
     "output_type": "stream",
     "text": [
      "\r",
      " 85%|████████████████████████████████████████████████████████████████████▊            | 85/100 [12:48<02:41, 10.79s/it]"
     ]
    },
    {
     "name": "stdout",
     "output_type": "stream",
     "text": [
      "Loss: tensor(0.0253, grad_fn=<MseLossBackward>)\n",
      "torch.Size([100, 9, 23, 23])\n",
      "torch.Size([100, 9, 11, 11])\n"
     ]
    },
    {
     "name": "stderr",
     "output_type": "stream",
     "text": [
      "\r",
      " 86%|█████████████████████████████████████████████████████████████████████▋           | 86/100 [12:56<02:20, 10.05s/it]"
     ]
    },
    {
     "name": "stdout",
     "output_type": "stream",
     "text": [
      "Loss: tensor(0.0236, grad_fn=<MseLossBackward>)\n",
      "torch.Size([100, 9, 23, 23])\n",
      "torch.Size([100, 9, 11, 11])\n"
     ]
    },
    {
     "name": "stderr",
     "output_type": "stream",
     "text": [
      "\r",
      " 87%|██████████████████████████████████████████████████████████████████████▍          | 87/100 [13:04<02:02,  9.42s/it]"
     ]
    },
    {
     "name": "stdout",
     "output_type": "stream",
     "text": [
      "Loss: tensor(0.0235, grad_fn=<MseLossBackward>)\n",
      "torch.Size([100, 9, 23, 23])\n",
      "torch.Size([100, 9, 11, 11])\n"
     ]
    },
    {
     "name": "stderr",
     "output_type": "stream",
     "text": [
      "\r",
      " 88%|███████████████████████████████████████████████████████████████████████▎         | 88/100 [13:12<01:47,  8.97s/it]"
     ]
    },
    {
     "name": "stdout",
     "output_type": "stream",
     "text": [
      "Loss: tensor(0.0217, grad_fn=<MseLossBackward>)\n",
      "torch.Size([100, 9, 23, 23])\n",
      "torch.Size([100, 9, 11, 11])\n"
     ]
    },
    {
     "name": "stderr",
     "output_type": "stream",
     "text": [
      "\r",
      " 89%|████████████████████████████████████████████████████████████████████████         | 89/100 [13:20<01:34,  8.59s/it]"
     ]
    },
    {
     "name": "stdout",
     "output_type": "stream",
     "text": [
      "Loss: tensor(0.0209, grad_fn=<MseLossBackward>)\n",
      "torch.Size([100, 9, 23, 23])\n",
      "torch.Size([100, 9, 11, 11])\n"
     ]
    },
    {
     "name": "stderr",
     "output_type": "stream",
     "text": [
      "\r",
      " 90%|████████████████████████████████████████████████████████████████████████▉        | 90/100 [13:28<01:23,  8.32s/it]"
     ]
    },
    {
     "name": "stdout",
     "output_type": "stream",
     "text": [
      "Loss: tensor(0.0244, grad_fn=<MseLossBackward>)\n",
      "torch.Size([100, 9, 23, 23])\n",
      "torch.Size([100, 9, 11, 11])\n"
     ]
    },
    {
     "name": "stderr",
     "output_type": "stream",
     "text": [
      "\r",
      " 91%|█████████████████████████████████████████████████████████████████████████▋       | 91/100 [13:36<01:13,  8.20s/it]"
     ]
    },
    {
     "name": "stdout",
     "output_type": "stream",
     "text": [
      "Loss: tensor(0.0247, grad_fn=<MseLossBackward>)\n",
      "torch.Size([100, 9, 23, 23])\n",
      "torch.Size([100, 9, 11, 11])\n"
     ]
    },
    {
     "name": "stderr",
     "output_type": "stream",
     "text": [
      "\r",
      " 92%|██████████████████████████████████████████████████████████████████████████▌      | 92/100 [13:43<01:03,  7.99s/it]"
     ]
    },
    {
     "name": "stdout",
     "output_type": "stream",
     "text": [
      "Loss: tensor(0.0260, grad_fn=<MseLossBackward>)\n",
      "torch.Size([100, 9, 23, 23])\n",
      "torch.Size([100, 9, 11, 11])\n"
     ]
    },
    {
     "name": "stderr",
     "output_type": "stream",
     "text": [
      "\r",
      " 93%|███████████████████████████████████████████████████████████████████████████▎     | 93/100 [13:51<00:54,  7.85s/it]"
     ]
    },
    {
     "name": "stdout",
     "output_type": "stream",
     "text": [
      "Loss: tensor(0.0224, grad_fn=<MseLossBackward>)\n",
      "torch.Size([100, 9, 23, 23])\n",
      "torch.Size([100, 9, 11, 11])\n"
     ]
    },
    {
     "name": "stderr",
     "output_type": "stream",
     "text": [
      "\r",
      " 94%|████████████████████████████████████████████████████████████████████████████▏    | 94/100 [13:59<00:47,  7.95s/it]"
     ]
    },
    {
     "name": "stdout",
     "output_type": "stream",
     "text": [
      "Loss: tensor(0.0200, grad_fn=<MseLossBackward>)\n",
      "torch.Size([100, 9, 23, 23])\n",
      "torch.Size([100, 9, 11, 11])\n"
     ]
    },
    {
     "name": "stderr",
     "output_type": "stream",
     "text": [
      "\r",
      " 95%|████████████████████████████████████████████████████████████████████████████▉    | 95/100 [14:07<00:39,  7.89s/it]"
     ]
    },
    {
     "name": "stdout",
     "output_type": "stream",
     "text": [
      "Loss: tensor(0.0187, grad_fn=<MseLossBackward>)\n",
      "torch.Size([100, 9, 23, 23])\n",
      "torch.Size([100, 9, 11, 11])\n"
     ]
    },
    {
     "name": "stderr",
     "output_type": "stream",
     "text": [
      "\r",
      " 96%|█████████████████████████████████████████████████████████████████████████████▊   | 96/100 [14:14<00:31,  7.86s/it]"
     ]
    },
    {
     "name": "stdout",
     "output_type": "stream",
     "text": [
      "Loss: tensor(0.0229, grad_fn=<MseLossBackward>)\n",
      "torch.Size([100, 9, 23, 23])\n",
      "torch.Size([100, 9, 11, 11])\n"
     ]
    },
    {
     "name": "stderr",
     "output_type": "stream",
     "text": [
      "\r",
      " 97%|██████████████████████████████████████████████████████████████████████████████▌  | 97/100 [14:22<00:23,  7.93s/it]"
     ]
    },
    {
     "name": "stdout",
     "output_type": "stream",
     "text": [
      "Loss: tensor(0.0223, grad_fn=<MseLossBackward>)\n",
      "torch.Size([100, 9, 23, 23])\n",
      "torch.Size([100, 9, 11, 11])\n"
     ]
    },
    {
     "name": "stderr",
     "output_type": "stream",
     "text": [
      "\r",
      " 98%|███████████████████████████████████████████████████████████████████████████████▍ | 98/100 [14:30<00:15,  7.87s/it]"
     ]
    },
    {
     "name": "stdout",
     "output_type": "stream",
     "text": [
      "Loss: tensor(0.0200, grad_fn=<MseLossBackward>)\n",
      "torch.Size([100, 9, 23, 23])\n",
      "torch.Size([100, 9, 11, 11])\n"
     ]
    },
    {
     "name": "stderr",
     "output_type": "stream",
     "text": [
      "\r",
      " 99%|████████████████████████████████████████████████████████████████████████████████▏| 99/100 [14:38<00:07,  7.89s/it]"
     ]
    },
    {
     "name": "stdout",
     "output_type": "stream",
     "text": [
      "Loss: tensor(0.0202, grad_fn=<MseLossBackward>)\n",
      "torch.Size([100, 9, 23, 23])\n",
      "torch.Size([100, 9, 11, 11])\n"
     ]
    },
    {
     "name": "stderr",
     "output_type": "stream",
     "text": [
      "100%|████████████████████████████████████████████████████████████████████████████████| 100/100 [14:46<00:00,  8.86s/it]\n",
      "  0%|                                                                                          | 0/100 [00:00<?, ?it/s]"
     ]
    },
    {
     "name": "stdout",
     "output_type": "stream",
     "text": [
      "Loss: tensor(0.0204, grad_fn=<MseLossBackward>)\n",
      "Epoch 0 \n",
      "torch.Size([100, 9, 23, 23])\n",
      "torch.Size([100, 9, 11, 11])\n"
     ]
    },
    {
     "name": "stderr",
     "output_type": "stream",
     "text": [
      "\r",
      "  1%|▊                                                                                 | 1/100 [00:07<12:41,  7.69s/it]"
     ]
    },
    {
     "name": "stdout",
     "output_type": "stream",
     "text": [
      "Loss: tensor(0.0218, grad_fn=<MseLossBackward>)\n",
      "torch.Size([100, 9, 23, 23])\n",
      "torch.Size([100, 9, 11, 11])\n"
     ]
    },
    {
     "name": "stderr",
     "output_type": "stream",
     "text": [
      "\r",
      "  2%|█▋                                                                                | 2/100 [00:16<12:52,  7.89s/it]"
     ]
    },
    {
     "name": "stdout",
     "output_type": "stream",
     "text": [
      "Loss: tensor(0.0203, grad_fn=<MseLossBackward>)\n",
      "torch.Size([100, 9, 23, 23])\n",
      "torch.Size([100, 9, 11, 11])\n"
     ]
    },
    {
     "name": "stderr",
     "output_type": "stream",
     "text": [
      "\r",
      "  3%|██▍                                                                               | 3/100 [00:23<12:46,  7.90s/it]"
     ]
    },
    {
     "name": "stdout",
     "output_type": "stream",
     "text": [
      "Loss: tensor(0.0211, grad_fn=<MseLossBackward>)\n",
      "torch.Size([100, 9, 23, 23])\n",
      "torch.Size([100, 9, 11, 11])\n"
     ]
    },
    {
     "name": "stderr",
     "output_type": "stream",
     "text": [
      "\r",
      "  4%|███▎                                                                              | 4/100 [00:31<12:41,  7.93s/it]"
     ]
    },
    {
     "name": "stdout",
     "output_type": "stream",
     "text": [
      "Loss: tensor(0.0209, grad_fn=<MseLossBackward>)\n",
      "torch.Size([100, 9, 23, 23])\n",
      "torch.Size([100, 9, 11, 11])\n"
     ]
    },
    {
     "name": "stderr",
     "output_type": "stream",
     "text": [
      "\r",
      "  5%|████                                                                              | 5/100 [00:40<12:50,  8.12s/it]"
     ]
    },
    {
     "name": "stdout",
     "output_type": "stream",
     "text": [
      "Loss: tensor(0.0223, grad_fn=<MseLossBackward>)\n",
      "torch.Size([100, 9, 23, 23])\n",
      "torch.Size([100, 9, 11, 11])\n"
     ]
    },
    {
     "name": "stderr",
     "output_type": "stream",
     "text": [
      "\r",
      "  6%|████▉                                                                             | 6/100 [00:49<12:56,  8.26s/it]"
     ]
    },
    {
     "name": "stdout",
     "output_type": "stream",
     "text": [
      "Loss: tensor(0.0195, grad_fn=<MseLossBackward>)\n",
      "torch.Size([100, 9, 23, 23])\n",
      "torch.Size([100, 9, 11, 11])\n"
     ]
    },
    {
     "name": "stderr",
     "output_type": "stream",
     "text": [
      "\r",
      "  7%|█████▋                                                                            | 7/100 [00:57<12:42,  8.19s/it]"
     ]
    },
    {
     "name": "stdout",
     "output_type": "stream",
     "text": [
      "Loss: tensor(0.0211, grad_fn=<MseLossBackward>)\n",
      "torch.Size([100, 9, 23, 23])\n",
      "torch.Size([100, 9, 11, 11])\n"
     ]
    },
    {
     "name": "stderr",
     "output_type": "stream",
     "text": [
      "\r",
      "  8%|██████▌                                                                           | 8/100 [01:04<12:21,  8.06s/it]"
     ]
    },
    {
     "name": "stdout",
     "output_type": "stream",
     "text": [
      "Loss: tensor(0.0187, grad_fn=<MseLossBackward>)\n",
      "torch.Size([100, 9, 23, 23])\n",
      "torch.Size([100, 9, 11, 11])\n"
     ]
    },
    {
     "name": "stderr",
     "output_type": "stream",
     "text": [
      "\r",
      "  9%|███████▍                                                                          | 9/100 [01:13<12:24,  8.18s/it]"
     ]
    },
    {
     "name": "stdout",
     "output_type": "stream",
     "text": [
      "Loss: tensor(0.0209, grad_fn=<MseLossBackward>)\n",
      "torch.Size([100, 9, 23, 23])\n",
      "torch.Size([100, 9, 11, 11])\n"
     ]
    },
    {
     "name": "stderr",
     "output_type": "stream",
     "text": [
      "\r",
      " 10%|████████                                                                         | 10/100 [01:21<12:12,  8.14s/it]"
     ]
    },
    {
     "name": "stdout",
     "output_type": "stream",
     "text": [
      "Loss: tensor(0.0187, grad_fn=<MseLossBackward>)\n",
      "torch.Size([100, 9, 23, 23])\n",
      "torch.Size([100, 9, 11, 11])\n"
     ]
    },
    {
     "name": "stderr",
     "output_type": "stream",
     "text": [
      "\r",
      " 11%|████████▉                                                                        | 11/100 [01:43<18:05, 12.19s/it]"
     ]
    },
    {
     "name": "stdout",
     "output_type": "stream",
     "text": [
      "Loss: tensor(0.0193, grad_fn=<MseLossBackward>)\n",
      "torch.Size([100, 9, 23, 23])\n",
      "torch.Size([100, 9, 11, 11])\n"
     ]
    },
    {
     "name": "stderr",
     "output_type": "stream",
     "text": [
      "\r",
      " 12%|█████████▋                                                                       | 12/100 [01:52<16:31, 11.26s/it]"
     ]
    },
    {
     "name": "stdout",
     "output_type": "stream",
     "text": [
      "Loss: tensor(0.0201, grad_fn=<MseLossBackward>)\n",
      "torch.Size([100, 9, 23, 23])\n",
      "torch.Size([100, 9, 11, 11])\n"
     ]
    },
    {
     "name": "stderr",
     "output_type": "stream",
     "text": [
      "\r",
      " 13%|██████████▌                                                                      | 13/100 [01:59<14:46, 10.19s/it]"
     ]
    },
    {
     "name": "stdout",
     "output_type": "stream",
     "text": [
      "Loss: tensor(0.0214, grad_fn=<MseLossBackward>)\n",
      "torch.Size([100, 9, 23, 23])\n",
      "torch.Size([100, 9, 11, 11])\n"
     ]
    },
    {
     "name": "stderr",
     "output_type": "stream",
     "text": [
      "\r",
      " 14%|███████████▎                                                                     | 14/100 [02:07<13:29,  9.42s/it]"
     ]
    },
    {
     "name": "stdout",
     "output_type": "stream",
     "text": [
      "Loss: tensor(0.0204, grad_fn=<MseLossBackward>)\n",
      "torch.Size([100, 9, 23, 23])\n",
      "torch.Size([100, 9, 11, 11])\n"
     ]
    },
    {
     "name": "stderr",
     "output_type": "stream",
     "text": [
      "\r",
      " 15%|████████████▏                                                                    | 15/100 [02:15<12:51,  9.08s/it]"
     ]
    },
    {
     "name": "stdout",
     "output_type": "stream",
     "text": [
      "Loss: tensor(0.0191, grad_fn=<MseLossBackward>)\n",
      "torch.Size([100, 9, 23, 23])\n",
      "torch.Size([100, 9, 11, 11])\n"
     ]
    },
    {
     "name": "stderr",
     "output_type": "stream",
     "text": [
      "\r",
      " 16%|████████████▉                                                                    | 16/100 [02:23<12:05,  8.64s/it]"
     ]
    },
    {
     "name": "stdout",
     "output_type": "stream",
     "text": [
      "Loss: tensor(0.0193, grad_fn=<MseLossBackward>)\n",
      "torch.Size([100, 9, 23, 23])\n",
      "torch.Size([100, 9, 11, 11])\n"
     ]
    },
    {
     "name": "stderr",
     "output_type": "stream",
     "text": [
      "\r",
      " 17%|█████████████▊                                                                   | 17/100 [02:31<11:45,  8.50s/it]"
     ]
    },
    {
     "name": "stdout",
     "output_type": "stream",
     "text": [
      "Loss: tensor(0.0168, grad_fn=<MseLossBackward>)\n",
      "torch.Size([100, 9, 23, 23])\n",
      "torch.Size([100, 9, 11, 11])\n"
     ]
    },
    {
     "name": "stderr",
     "output_type": "stream",
     "text": [
      "\r",
      " 18%|██████████████▌                                                                  | 18/100 [02:39<11:16,  8.25s/it]"
     ]
    },
    {
     "name": "stdout",
     "output_type": "stream",
     "text": [
      "Loss: tensor(0.0211, grad_fn=<MseLossBackward>)\n",
      "torch.Size([100, 9, 23, 23])\n",
      "torch.Size([100, 9, 11, 11])\n"
     ]
    },
    {
     "name": "stderr",
     "output_type": "stream",
     "text": [
      "\r",
      " 19%|███████████████▍                                                                 | 19/100 [02:47<10:57,  8.12s/it]"
     ]
    },
    {
     "name": "stdout",
     "output_type": "stream",
     "text": [
      "Loss: tensor(0.0185, grad_fn=<MseLossBackward>)\n",
      "torch.Size([100, 9, 23, 23])\n",
      "torch.Size([100, 9, 11, 11])\n"
     ]
    },
    {
     "name": "stderr",
     "output_type": "stream",
     "text": [
      "\r",
      " 20%|████████████████▏                                                                | 20/100 [02:54<10:36,  7.96s/it]"
     ]
    },
    {
     "name": "stdout",
     "output_type": "stream",
     "text": [
      "Loss: tensor(0.0181, grad_fn=<MseLossBackward>)\n",
      "torch.Size([100, 9, 23, 23])\n",
      "torch.Size([100, 9, 11, 11])\n"
     ]
    },
    {
     "name": "stderr",
     "output_type": "stream",
     "text": [
      "\r",
      " 21%|█████████████████                                                                | 21/100 [03:02<10:26,  7.93s/it]"
     ]
    },
    {
     "name": "stdout",
     "output_type": "stream",
     "text": [
      "Loss: tensor(0.0176, grad_fn=<MseLossBackward>)\n",
      "torch.Size([100, 9, 23, 23])\n",
      "torch.Size([100, 9, 11, 11])\n"
     ]
    },
    {
     "name": "stderr",
     "output_type": "stream",
     "text": [
      "\r",
      " 22%|█████████████████▊                                                               | 22/100 [03:10<10:11,  7.84s/it]"
     ]
    },
    {
     "name": "stdout",
     "output_type": "stream",
     "text": [
      "Loss: tensor(0.0181, grad_fn=<MseLossBackward>)\n",
      "torch.Size([100, 9, 23, 23])\n",
      "torch.Size([100, 9, 11, 11])\n"
     ]
    },
    {
     "name": "stderr",
     "output_type": "stream",
     "text": [
      "\r",
      " 23%|██████████████████▋                                                              | 23/100 [03:18<10:13,  7.96s/it]"
     ]
    },
    {
     "name": "stdout",
     "output_type": "stream",
     "text": [
      "Loss: tensor(0.0174, grad_fn=<MseLossBackward>)\n",
      "torch.Size([100, 9, 23, 23])\n",
      "torch.Size([100, 9, 11, 11])\n"
     ]
    },
    {
     "name": "stderr",
     "output_type": "stream",
     "text": [
      "\r",
      " 24%|███████████████████▍                                                             | 24/100 [03:26<10:03,  7.94s/it]"
     ]
    },
    {
     "name": "stdout",
     "output_type": "stream",
     "text": [
      "Loss: tensor(0.0173, grad_fn=<MseLossBackward>)\n",
      "torch.Size([100, 9, 23, 23])\n",
      "torch.Size([100, 9, 11, 11])\n"
     ]
    },
    {
     "name": "stderr",
     "output_type": "stream",
     "text": [
      "\r",
      " 25%|████████████████████▎                                                            | 25/100 [03:34<09:56,  7.95s/it]"
     ]
    },
    {
     "name": "stdout",
     "output_type": "stream",
     "text": [
      "Loss: tensor(0.0176, grad_fn=<MseLossBackward>)\n",
      "torch.Size([100, 9, 23, 23])\n",
      "torch.Size([100, 9, 11, 11])\n"
     ]
    },
    {
     "name": "stderr",
     "output_type": "stream",
     "text": [
      "\r",
      " 26%|█████████████████████                                                            | 26/100 [03:42<09:51,  7.99s/it]"
     ]
    },
    {
     "name": "stdout",
     "output_type": "stream",
     "text": [
      "Loss: tensor(0.0187, grad_fn=<MseLossBackward>)\n",
      "torch.Size([100, 9, 23, 23])\n",
      "torch.Size([100, 9, 11, 11])\n"
     ]
    },
    {
     "name": "stderr",
     "output_type": "stream",
     "text": [
      "\r",
      " 27%|█████████████████████▊                                                           | 27/100 [03:50<09:43,  7.99s/it]"
     ]
    },
    {
     "name": "stdout",
     "output_type": "stream",
     "text": [
      "Loss: tensor(0.0185, grad_fn=<MseLossBackward>)\n",
      "torch.Size([100, 9, 23, 23])\n",
      "torch.Size([100, 9, 11, 11])\n"
     ]
    },
    {
     "name": "stderr",
     "output_type": "stream",
     "text": [
      "\r",
      " 28%|██████████████████████▋                                                          | 28/100 [03:58<09:38,  8.04s/it]"
     ]
    },
    {
     "name": "stdout",
     "output_type": "stream",
     "text": [
      "Loss: tensor(0.0188, grad_fn=<MseLossBackward>)\n",
      "torch.Size([100, 9, 23, 23])\n",
      "torch.Size([100, 9, 11, 11])\n"
     ]
    },
    {
     "name": "stderr",
     "output_type": "stream",
     "text": [
      "\r",
      " 29%|███████████████████████▍                                                         | 29/100 [04:06<09:22,  7.92s/it]"
     ]
    },
    {
     "name": "stdout",
     "output_type": "stream",
     "text": [
      "Loss: tensor(0.0178, grad_fn=<MseLossBackward>)\n",
      "torch.Size([100, 9, 23, 23])\n",
      "torch.Size([100, 9, 11, 11])\n"
     ]
    },
    {
     "name": "stderr",
     "output_type": "stream",
     "text": [
      "\r",
      " 30%|████████████████████████▎                                                        | 30/100 [04:14<09:23,  8.06s/it]"
     ]
    },
    {
     "name": "stdout",
     "output_type": "stream",
     "text": [
      "Loss: tensor(0.0177, grad_fn=<MseLossBackward>)\n",
      "torch.Size([100, 9, 23, 23])\n",
      "torch.Size([100, 9, 11, 11])\n"
     ]
    },
    {
     "name": "stderr",
     "output_type": "stream",
     "text": [
      "\r",
      " 31%|█████████████████████████                                                        | 31/100 [04:22<09:19,  8.10s/it]"
     ]
    },
    {
     "name": "stdout",
     "output_type": "stream",
     "text": [
      "Loss: tensor(0.0157, grad_fn=<MseLossBackward>)\n",
      "torch.Size([100, 9, 23, 23])\n",
      "torch.Size([100, 9, 11, 11])\n"
     ]
    },
    {
     "name": "stderr",
     "output_type": "stream",
     "text": [
      "\r",
      " 32%|█████████████████████████▉                                                       | 32/100 [04:30<09:05,  8.02s/it]"
     ]
    },
    {
     "name": "stdout",
     "output_type": "stream",
     "text": [
      "Loss: tensor(0.0179, grad_fn=<MseLossBackward>)\n",
      "torch.Size([100, 9, 23, 23])\n",
      "torch.Size([100, 9, 11, 11])\n"
     ]
    },
    {
     "name": "stderr",
     "output_type": "stream",
     "text": [
      "\r",
      " 33%|██████████████████████████▋                                                      | 33/100 [04:38<08:55,  7.99s/it]"
     ]
    },
    {
     "name": "stdout",
     "output_type": "stream",
     "text": [
      "Loss: tensor(0.0210, grad_fn=<MseLossBackward>)\n",
      "torch.Size([100, 9, 23, 23])\n",
      "torch.Size([100, 9, 11, 11])\n"
     ]
    },
    {
     "name": "stderr",
     "output_type": "stream",
     "text": [
      "\r",
      " 34%|███████████████████████████▌                                                     | 34/100 [04:47<08:59,  8.18s/it]"
     ]
    },
    {
     "name": "stdout",
     "output_type": "stream",
     "text": [
      "Loss: tensor(0.0172, grad_fn=<MseLossBackward>)\n",
      "torch.Size([100, 9, 23, 23])\n",
      "torch.Size([100, 9, 11, 11])\n"
     ]
    },
    {
     "name": "stderr",
     "output_type": "stream",
     "text": [
      "\r",
      " 35%|████████████████████████████▎                                                    | 35/100 [04:55<08:59,  8.30s/it]"
     ]
    },
    {
     "name": "stdout",
     "output_type": "stream",
     "text": [
      "Loss: tensor(0.0186, grad_fn=<MseLossBackward>)\n",
      "torch.Size([100, 9, 23, 23])\n",
      "torch.Size([100, 9, 11, 11])\n"
     ]
    },
    {
     "name": "stderr",
     "output_type": "stream",
     "text": [
      "\r",
      " 36%|█████████████████████████████▏                                                   | 36/100 [05:03<08:47,  8.24s/it]"
     ]
    },
    {
     "name": "stdout",
     "output_type": "stream",
     "text": [
      "Loss: tensor(0.0206, grad_fn=<MseLossBackward>)\n",
      "torch.Size([100, 9, 23, 23])\n",
      "torch.Size([100, 9, 11, 11])\n"
     ]
    },
    {
     "name": "stderr",
     "output_type": "stream",
     "text": [
      "\r",
      " 37%|█████████████████████████████▉                                                   | 37/100 [05:12<08:47,  8.37s/it]"
     ]
    },
    {
     "name": "stdout",
     "output_type": "stream",
     "text": [
      "Loss: tensor(0.0161, grad_fn=<MseLossBackward>)\n",
      "torch.Size([100, 9, 23, 23])\n",
      "torch.Size([100, 9, 11, 11])\n"
     ]
    },
    {
     "name": "stderr",
     "output_type": "stream",
     "text": [
      "\r",
      " 38%|██████████████████████████████▊                                                  | 38/100 [05:22<09:06,  8.82s/it]"
     ]
    },
    {
     "name": "stdout",
     "output_type": "stream",
     "text": [
      "Loss: tensor(0.0224, grad_fn=<MseLossBackward>)\n",
      "torch.Size([100, 9, 23, 23])\n",
      "torch.Size([100, 9, 11, 11])\n"
     ]
    },
    {
     "name": "stderr",
     "output_type": "stream",
     "text": [
      "\r",
      " 39%|███████████████████████████████▌                                                 | 39/100 [05:31<09:09,  9.00s/it]"
     ]
    },
    {
     "name": "stdout",
     "output_type": "stream",
     "text": [
      "Loss: tensor(0.0179, grad_fn=<MseLossBackward>)\n",
      "torch.Size([100, 9, 23, 23])\n",
      "torch.Size([100, 9, 11, 11])\n"
     ]
    },
    {
     "name": "stderr",
     "output_type": "stream",
     "text": [
      "\r",
      " 40%|████████████████████████████████▍                                                | 40/100 [05:43<09:51,  9.87s/it]"
     ]
    },
    {
     "name": "stdout",
     "output_type": "stream",
     "text": [
      "Loss: tensor(0.0212, grad_fn=<MseLossBackward>)\n",
      "torch.Size([100, 9, 23, 23])\n",
      "torch.Size([100, 9, 11, 11])\n"
     ]
    },
    {
     "name": "stderr",
     "output_type": "stream",
     "text": [
      "\r",
      " 41%|█████████████████████████████████▏                                               | 41/100 [05:55<10:13, 10.40s/it]"
     ]
    },
    {
     "name": "stdout",
     "output_type": "stream",
     "text": [
      "Loss: tensor(0.0175, grad_fn=<MseLossBackward>)\n",
      "torch.Size([100, 9, 23, 23])\n",
      "torch.Size([100, 9, 11, 11])\n"
     ]
    },
    {
     "name": "stderr",
     "output_type": "stream",
     "text": [
      "\r",
      " 42%|██████████████████████████████████                                               | 42/100 [06:06<10:13, 10.57s/it]"
     ]
    },
    {
     "name": "stdout",
     "output_type": "stream",
     "text": [
      "Loss: tensor(0.0170, grad_fn=<MseLossBackward>)\n",
      "torch.Size([100, 9, 23, 23])\n",
      "torch.Size([100, 9, 11, 11])\n"
     ]
    },
    {
     "name": "stderr",
     "output_type": "stream",
     "text": [
      "\r",
      " 43%|██████████████████████████████████▊                                              | 43/100 [06:16<10:01, 10.56s/it]"
     ]
    },
    {
     "name": "stdout",
     "output_type": "stream",
     "text": [
      "Loss: tensor(0.0171, grad_fn=<MseLossBackward>)\n",
      "torch.Size([100, 9, 23, 23])\n",
      "torch.Size([100, 9, 11, 11])\n"
     ]
    },
    {
     "name": "stderr",
     "output_type": "stream",
     "text": [
      "\r",
      " 44%|███████████████████████████████████▋                                             | 44/100 [06:25<09:18,  9.98s/it]"
     ]
    },
    {
     "name": "stdout",
     "output_type": "stream",
     "text": [
      "Loss: tensor(0.0164, grad_fn=<MseLossBackward>)\n",
      "torch.Size([100, 9, 23, 23])\n",
      "torch.Size([100, 9, 11, 11])\n"
     ]
    },
    {
     "name": "stderr",
     "output_type": "stream",
     "text": [
      "\r",
      " 45%|████████████████████████████████████▍                                            | 45/100 [06:33<08:38,  9.42s/it]"
     ]
    },
    {
     "name": "stdout",
     "output_type": "stream",
     "text": [
      "Loss: tensor(0.0206, grad_fn=<MseLossBackward>)\n",
      "torch.Size([100, 9, 23, 23])\n",
      "torch.Size([100, 9, 11, 11])\n"
     ]
    },
    {
     "name": "stderr",
     "output_type": "stream",
     "text": [
      "\r",
      " 46%|█████████████████████████████████████▎                                           | 46/100 [06:41<08:07,  9.03s/it]"
     ]
    },
    {
     "name": "stdout",
     "output_type": "stream",
     "text": [
      "Loss: tensor(0.0165, grad_fn=<MseLossBackward>)\n",
      "torch.Size([100, 9, 23, 23])\n",
      "torch.Size([100, 9, 11, 11])\n"
     ]
    },
    {
     "name": "stderr",
     "output_type": "stream",
     "text": [
      "\r",
      " 47%|██████████████████████████████████████                                           | 47/100 [06:50<07:51,  8.89s/it]"
     ]
    },
    {
     "name": "stdout",
     "output_type": "stream",
     "text": [
      "Loss: tensor(0.0191, grad_fn=<MseLossBackward>)\n",
      "torch.Size([100, 9, 23, 23])\n",
      "torch.Size([100, 9, 11, 11])\n"
     ]
    },
    {
     "name": "stderr",
     "output_type": "stream",
     "text": [
      "\r",
      " 48%|██████████████████████████████████████▉                                          | 48/100 [06:59<07:45,  8.95s/it]"
     ]
    },
    {
     "name": "stdout",
     "output_type": "stream",
     "text": [
      "Loss: tensor(0.0161, grad_fn=<MseLossBackward>)\n",
      "torch.Size([100, 9, 23, 23])\n",
      "torch.Size([100, 9, 11, 11])\n"
     ]
    },
    {
     "name": "stderr",
     "output_type": "stream",
     "text": [
      "\r",
      " 49%|███████████████████████████████████████▋                                         | 49/100 [07:08<07:48,  9.19s/it]"
     ]
    },
    {
     "name": "stdout",
     "output_type": "stream",
     "text": [
      "Loss: tensor(0.0167, grad_fn=<MseLossBackward>)\n",
      "torch.Size([100, 9, 23, 23])\n",
      "torch.Size([100, 9, 11, 11])\n"
     ]
    },
    {
     "name": "stderr",
     "output_type": "stream",
     "text": [
      "\r",
      " 50%|████████████████████████████████████████▌                                        | 50/100 [07:19<07:59,  9.60s/it]"
     ]
    },
    {
     "name": "stdout",
     "output_type": "stream",
     "text": [
      "Loss: tensor(0.0177, grad_fn=<MseLossBackward>)\n",
      "torch.Size([100, 9, 23, 23])\n",
      "torch.Size([100, 9, 11, 11])\n"
     ]
    },
    {
     "name": "stderr",
     "output_type": "stream",
     "text": [
      "\r",
      " 51%|█████████████████████████████████████████▎                                       | 51/100 [07:27<07:30,  9.20s/it]"
     ]
    },
    {
     "name": "stdout",
     "output_type": "stream",
     "text": [
      "Loss: tensor(0.0172, grad_fn=<MseLossBackward>)\n",
      "torch.Size([100, 9, 23, 23])\n",
      "torch.Size([100, 9, 11, 11])\n"
     ]
    },
    {
     "name": "stderr",
     "output_type": "stream",
     "text": [
      "\r",
      " 52%|██████████████████████████████████████████                                       | 52/100 [07:36<07:08,  8.92s/it]"
     ]
    },
    {
     "name": "stdout",
     "output_type": "stream",
     "text": [
      "Loss: tensor(0.0171, grad_fn=<MseLossBackward>)\n",
      "torch.Size([100, 9, 23, 23])\n",
      "torch.Size([100, 9, 11, 11])\n"
     ]
    },
    {
     "name": "stderr",
     "output_type": "stream",
     "text": [
      "\r",
      " 53%|██████████████████████████████████████████▉                                      | 53/100 [07:43<06:44,  8.62s/it]"
     ]
    },
    {
     "name": "stdout",
     "output_type": "stream",
     "text": [
      "Loss: tensor(0.0151, grad_fn=<MseLossBackward>)\n",
      "torch.Size([100, 9, 23, 23])\n",
      "torch.Size([100, 9, 11, 11])\n"
     ]
    },
    {
     "name": "stderr",
     "output_type": "stream",
     "text": [
      "\r",
      " 54%|███████████████████████████████████████████▋                                     | 54/100 [07:52<06:33,  8.56s/it]"
     ]
    },
    {
     "name": "stdout",
     "output_type": "stream",
     "text": [
      "Loss: tensor(0.0169, grad_fn=<MseLossBackward>)\n",
      "torch.Size([100, 9, 23, 23])\n",
      "torch.Size([100, 9, 11, 11])\n"
     ]
    },
    {
     "name": "stderr",
     "output_type": "stream",
     "text": [
      "\r",
      " 55%|████████████████████████████████████████████▌                                    | 55/100 [08:00<06:23,  8.52s/it]"
     ]
    },
    {
     "name": "stdout",
     "output_type": "stream",
     "text": [
      "Loss: tensor(0.0151, grad_fn=<MseLossBackward>)\n",
      "torch.Size([100, 9, 23, 23])\n",
      "torch.Size([100, 9, 11, 11])\n"
     ]
    },
    {
     "name": "stderr",
     "output_type": "stream",
     "text": [
      "\r",
      " 56%|█████████████████████████████████████████████▎                                   | 56/100 [08:09<06:15,  8.52s/it]"
     ]
    },
    {
     "name": "stdout",
     "output_type": "stream",
     "text": [
      "Loss: tensor(0.0175, grad_fn=<MseLossBackward>)\n",
      "torch.Size([100, 9, 23, 23])\n",
      "torch.Size([100, 9, 11, 11])\n"
     ]
    },
    {
     "name": "stderr",
     "output_type": "stream",
     "text": [
      "\r",
      " 57%|██████████████████████████████████████████████▏                                  | 57/100 [08:19<06:24,  8.94s/it]"
     ]
    },
    {
     "name": "stdout",
     "output_type": "stream",
     "text": [
      "Loss: tensor(0.0146, grad_fn=<MseLossBackward>)\n",
      "torch.Size([100, 9, 23, 23])\n",
      "torch.Size([100, 9, 11, 11])\n"
     ]
    },
    {
     "name": "stderr",
     "output_type": "stream",
     "text": [
      "\r",
      " 58%|██████████████████████████████████████████████▉                                  | 58/100 [08:29<06:32,  9.36s/it]"
     ]
    },
    {
     "name": "stdout",
     "output_type": "stream",
     "text": [
      "Loss: tensor(0.0159, grad_fn=<MseLossBackward>)\n",
      "torch.Size([100, 9, 23, 23])\n",
      "torch.Size([100, 9, 11, 11])\n"
     ]
    },
    {
     "name": "stderr",
     "output_type": "stream",
     "text": [
      "\r",
      " 59%|███████████████████████████████████████████████▊                                 | 59/100 [09:27<16:21, 23.94s/it]"
     ]
    },
    {
     "name": "stdout",
     "output_type": "stream",
     "text": [
      "Loss: tensor(0.0151, grad_fn=<MseLossBackward>)\n",
      "torch.Size([100, 9, 23, 23])\n",
      "torch.Size([100, 9, 11, 11])\n"
     ]
    },
    {
     "name": "stderr",
     "output_type": "stream",
     "text": [
      "\r",
      " 60%|████████████████████████████████████████████████▌                                | 60/100 [09:42<14:09, 21.24s/it]"
     ]
    },
    {
     "name": "stdout",
     "output_type": "stream",
     "text": [
      "Loss: tensor(0.0182, grad_fn=<MseLossBackward>)\n",
      "torch.Size([100, 9, 23, 23])\n",
      "torch.Size([100, 9, 11, 11])\n"
     ]
    },
    {
     "name": "stderr",
     "output_type": "stream",
     "text": [
      "\r",
      " 61%|█████████████████████████████████████████████████▍                               | 61/100 [10:04<13:59, 21.53s/it]"
     ]
    },
    {
     "name": "stdout",
     "output_type": "stream",
     "text": [
      "Loss: tensor(0.0160, grad_fn=<MseLossBackward>)\n",
      "torch.Size([100, 9, 23, 23])\n",
      "torch.Size([100, 9, 11, 11])\n"
     ]
    },
    {
     "name": "stderr",
     "output_type": "stream",
     "text": [
      "\r",
      " 62%|██████████████████████████████████████████████████▏                              | 62/100 [10:13<11:15, 17.78s/it]"
     ]
    },
    {
     "name": "stdout",
     "output_type": "stream",
     "text": [
      "Loss: tensor(0.0155, grad_fn=<MseLossBackward>)\n",
      "torch.Size([100, 9, 23, 23])\n",
      "torch.Size([100, 9, 11, 11])\n"
     ]
    },
    {
     "name": "stderr",
     "output_type": "stream",
     "text": [
      "\r",
      " 63%|███████████████████████████████████████████████████                              | 63/100 [10:21<09:06, 14.77s/it]"
     ]
    },
    {
     "name": "stdout",
     "output_type": "stream",
     "text": [
      "Loss: tensor(0.0158, grad_fn=<MseLossBackward>)\n",
      "torch.Size([100, 9, 23, 23])\n",
      "torch.Size([100, 9, 11, 11])\n"
     ]
    },
    {
     "name": "stderr",
     "output_type": "stream",
     "text": [
      "\r",
      " 64%|███████████████████████████████████████████████████▊                             | 64/100 [10:29<07:37, 12.70s/it]"
     ]
    },
    {
     "name": "stdout",
     "output_type": "stream",
     "text": [
      "Loss: tensor(0.0156, grad_fn=<MseLossBackward>)\n",
      "torch.Size([100, 9, 23, 23])\n",
      "torch.Size([100, 9, 11, 11])\n"
     ]
    },
    {
     "name": "stderr",
     "output_type": "stream",
     "text": [
      "\r",
      " 65%|████████████████████████████████████████████████████▋                            | 65/100 [10:36<06:27, 11.08s/it]"
     ]
    },
    {
     "name": "stdout",
     "output_type": "stream",
     "text": [
      "Loss: tensor(0.0161, grad_fn=<MseLossBackward>)\n",
      "torch.Size([100, 9, 23, 23])\n",
      "torch.Size([100, 9, 11, 11])\n"
     ]
    },
    {
     "name": "stderr",
     "output_type": "stream",
     "text": [
      "\r",
      " 66%|█████████████████████████████████████████████████████▍                           | 66/100 [10:44<05:40, 10.03s/it]"
     ]
    },
    {
     "name": "stdout",
     "output_type": "stream",
     "text": [
      "Loss: tensor(0.0162, grad_fn=<MseLossBackward>)\n",
      "torch.Size([100, 9, 23, 23])\n",
      "torch.Size([100, 9, 11, 11])\n"
     ]
    },
    {
     "name": "stderr",
     "output_type": "stream",
     "text": [
      "\r",
      " 67%|██████████████████████████████████████████████████████▎                          | 67/100 [10:51<05:06,  9.28s/it]"
     ]
    },
    {
     "name": "stdout",
     "output_type": "stream",
     "text": [
      "Loss: tensor(0.0154, grad_fn=<MseLossBackward>)\n",
      "torch.Size([100, 9, 23, 23])\n",
      "torch.Size([100, 9, 11, 11])\n"
     ]
    },
    {
     "name": "stderr",
     "output_type": "stream",
     "text": [
      "\r",
      " 68%|███████████████████████████████████████████████████████                          | 68/100 [10:59<04:40,  8.75s/it]"
     ]
    },
    {
     "name": "stdout",
     "output_type": "stream",
     "text": [
      "Loss: tensor(0.0143, grad_fn=<MseLossBackward>)\n",
      "torch.Size([100, 9, 23, 23])\n",
      "torch.Size([100, 9, 11, 11])\n"
     ]
    },
    {
     "name": "stderr",
     "output_type": "stream",
     "text": [
      "\r",
      " 69%|███████████████████████████████████████████████████████▉                         | 69/100 [11:06<04:20,  8.41s/it]"
     ]
    },
    {
     "name": "stdout",
     "output_type": "stream",
     "text": [
      "Loss: tensor(0.0154, grad_fn=<MseLossBackward>)\n",
      "torch.Size([100, 9, 23, 23])\n",
      "torch.Size([100, 9, 11, 11])\n"
     ]
    },
    {
     "name": "stderr",
     "output_type": "stream",
     "text": [
      "\r",
      " 70%|████████████████████████████████████████████████████████▋                        | 70/100 [11:15<04:10,  8.36s/it]"
     ]
    },
    {
     "name": "stdout",
     "output_type": "stream",
     "text": [
      "Loss: tensor(0.0145, grad_fn=<MseLossBackward>)\n",
      "torch.Size([100, 9, 23, 23])\n",
      "torch.Size([100, 9, 11, 11])\n"
     ]
    },
    {
     "name": "stderr",
     "output_type": "stream",
     "text": [
      "\r",
      " 71%|█████████████████████████████████████████████████████████▌                       | 71/100 [11:22<03:54,  8.09s/it]"
     ]
    },
    {
     "name": "stdout",
     "output_type": "stream",
     "text": [
      "Loss: tensor(0.0145, grad_fn=<MseLossBackward>)\n",
      "torch.Size([100, 9, 23, 23])\n",
      "torch.Size([100, 9, 11, 11])\n"
     ]
    },
    {
     "name": "stderr",
     "output_type": "stream",
     "text": [
      "\r",
      " 72%|██████████████████████████████████████████████████████████▎                      | 72/100 [11:30<03:42,  7.95s/it]"
     ]
    },
    {
     "name": "stdout",
     "output_type": "stream",
     "text": [
      "Loss: tensor(0.0147, grad_fn=<MseLossBackward>)\n",
      "torch.Size([100, 9, 23, 23])\n",
      "torch.Size([100, 9, 11, 11])\n"
     ]
    },
    {
     "name": "stderr",
     "output_type": "stream",
     "text": [
      "\r",
      " 73%|███████████████████████████████████████████████████████████▏                     | 73/100 [11:37<03:30,  7.81s/it]"
     ]
    },
    {
     "name": "stdout",
     "output_type": "stream",
     "text": [
      "Loss: tensor(0.0147, grad_fn=<MseLossBackward>)\n",
      "torch.Size([100, 9, 23, 23])\n",
      "torch.Size([100, 9, 11, 11])\n"
     ]
    },
    {
     "name": "stderr",
     "output_type": "stream",
     "text": [
      "\r",
      " 74%|███████████████████████████████████████████████████████████▉                     | 74/100 [11:45<03:22,  7.78s/it]"
     ]
    },
    {
     "name": "stdout",
     "output_type": "stream",
     "text": [
      "Loss: tensor(0.0150, grad_fn=<MseLossBackward>)\n",
      "torch.Size([100, 9, 23, 23])\n",
      "torch.Size([100, 9, 11, 11])\n"
     ]
    },
    {
     "name": "stderr",
     "output_type": "stream",
     "text": [
      "\r",
      " 75%|████████████████████████████████████████████████████████████▊                    | 75/100 [11:53<03:13,  7.73s/it]"
     ]
    },
    {
     "name": "stdout",
     "output_type": "stream",
     "text": [
      "Loss: tensor(0.0151, grad_fn=<MseLossBackward>)\n",
      "torch.Size([100, 9, 23, 23])\n",
      "torch.Size([100, 9, 11, 11])\n"
     ]
    },
    {
     "name": "stderr",
     "output_type": "stream",
     "text": [
      "\r",
      " 76%|█████████████████████████████████████████████████████████████▌                   | 76/100 [12:00<03:04,  7.70s/it]"
     ]
    },
    {
     "name": "stdout",
     "output_type": "stream",
     "text": [
      "Loss: tensor(0.0148, grad_fn=<MseLossBackward>)\n",
      "torch.Size([100, 9, 23, 23])\n",
      "torch.Size([100, 9, 11, 11])\n"
     ]
    },
    {
     "name": "stderr",
     "output_type": "stream",
     "text": [
      "\r",
      " 77%|██████████████████████████████████████████████████████████████▎                  | 77/100 [12:08<02:56,  7.69s/it]"
     ]
    },
    {
     "name": "stdout",
     "output_type": "stream",
     "text": [
      "Loss: tensor(0.0139, grad_fn=<MseLossBackward>)\n",
      "torch.Size([100, 9, 23, 23])\n",
      "torch.Size([100, 9, 11, 11])\n"
     ]
    },
    {
     "name": "stderr",
     "output_type": "stream",
     "text": [
      "\r",
      " 78%|███████████████████████████████████████████████████████████████▏                 | 78/100 [12:16<02:52,  7.83s/it]"
     ]
    },
    {
     "name": "stdout",
     "output_type": "stream",
     "text": [
      "Loss: tensor(0.0139, grad_fn=<MseLossBackward>)\n",
      "torch.Size([100, 9, 23, 23])\n",
      "torch.Size([100, 9, 11, 11])\n"
     ]
    },
    {
     "name": "stderr",
     "output_type": "stream",
     "text": [
      "\r",
      " 79%|███████████████████████████████████████████████████████████████▉                 | 79/100 [12:24<02:42,  7.75s/it]"
     ]
    },
    {
     "name": "stdout",
     "output_type": "stream",
     "text": [
      "Loss: tensor(0.0142, grad_fn=<MseLossBackward>)\n",
      "torch.Size([100, 9, 23, 23])\n",
      "torch.Size([100, 9, 11, 11])\n"
     ]
    },
    {
     "name": "stderr",
     "output_type": "stream",
     "text": [
      "\r",
      " 80%|████████████████████████████████████████████████████████████████▊                | 80/100 [12:31<02:34,  7.75s/it]"
     ]
    },
    {
     "name": "stdout",
     "output_type": "stream",
     "text": [
      "Loss: tensor(0.0157, grad_fn=<MseLossBackward>)\n",
      "torch.Size([100, 9, 23, 23])\n",
      "torch.Size([100, 9, 11, 11])\n"
     ]
    },
    {
     "name": "stderr",
     "output_type": "stream",
     "text": [
      "\r",
      " 81%|█████████████████████████████████████████████████████████████████▌               | 81/100 [12:39<02:27,  7.76s/it]"
     ]
    },
    {
     "name": "stdout",
     "output_type": "stream",
     "text": [
      "Loss: tensor(0.0151, grad_fn=<MseLossBackward>)\n",
      "torch.Size([100, 9, 23, 23])\n",
      "torch.Size([100, 9, 11, 11])\n"
     ]
    },
    {
     "name": "stderr",
     "output_type": "stream",
     "text": [
      "\r",
      " 82%|██████████████████████████████████████████████████████████████████▍              | 82/100 [12:47<02:21,  7.88s/it]"
     ]
    },
    {
     "name": "stdout",
     "output_type": "stream",
     "text": [
      "Loss: tensor(0.0141, grad_fn=<MseLossBackward>)\n",
      "torch.Size([100, 9, 23, 23])\n",
      "torch.Size([100, 9, 11, 11])\n"
     ]
    },
    {
     "name": "stderr",
     "output_type": "stream",
     "text": [
      "\r",
      " 83%|███████████████████████████████████████████████████████████████████▏             | 83/100 [12:57<02:22,  8.35s/it]"
     ]
    },
    {
     "name": "stdout",
     "output_type": "stream",
     "text": [
      "Loss: tensor(0.0154, grad_fn=<MseLossBackward>)\n",
      "torch.Size([100, 9, 23, 23])\n",
      "torch.Size([100, 9, 11, 11])\n"
     ]
    },
    {
     "name": "stderr",
     "output_type": "stream",
     "text": [
      "\r",
      " 84%|████████████████████████████████████████████████████████████████████             | 84/100 [13:05<02:14,  8.41s/it]"
     ]
    },
    {
     "name": "stdout",
     "output_type": "stream",
     "text": [
      "Loss: tensor(0.0153, grad_fn=<MseLossBackward>)\n",
      "torch.Size([100, 9, 23, 23])\n",
      "torch.Size([100, 9, 11, 11])\n"
     ]
    },
    {
     "name": "stderr",
     "output_type": "stream",
     "text": [
      "\r",
      " 85%|████████████████████████████████████████████████████████████████████▊            | 85/100 [13:14<02:09,  8.65s/it]"
     ]
    },
    {
     "name": "stdout",
     "output_type": "stream",
     "text": [
      "Loss: tensor(0.0138, grad_fn=<MseLossBackward>)\n",
      "torch.Size([100, 9, 23, 23])\n",
      "torch.Size([100, 9, 11, 11])\n"
     ]
    },
    {
     "name": "stderr",
     "output_type": "stream",
     "text": [
      "\r",
      " 86%|█████████████████████████████████████████████████████████████████████▋           | 86/100 [13:23<01:58,  8.47s/it]"
     ]
    },
    {
     "name": "stdout",
     "output_type": "stream",
     "text": [
      "Loss: tensor(0.0137, grad_fn=<MseLossBackward>)\n",
      "torch.Size([100, 9, 23, 23])\n",
      "torch.Size([100, 9, 11, 11])\n"
     ]
    },
    {
     "name": "stderr",
     "output_type": "stream",
     "text": [
      "\r",
      " 87%|██████████████████████████████████████████████████████████████████████▍          | 87/100 [13:30<01:48,  8.32s/it]"
     ]
    },
    {
     "name": "stdout",
     "output_type": "stream",
     "text": [
      "Loss: tensor(0.0148, grad_fn=<MseLossBackward>)\n",
      "torch.Size([100, 9, 23, 23])\n",
      "torch.Size([100, 9, 11, 11])\n"
     ]
    },
    {
     "name": "stderr",
     "output_type": "stream",
     "text": [
      "\r",
      " 88%|███████████████████████████████████████████████████████████████████████▎         | 88/100 [13:39<01:40,  8.34s/it]"
     ]
    },
    {
     "name": "stdout",
     "output_type": "stream",
     "text": [
      "Loss: tensor(0.0140, grad_fn=<MseLossBackward>)\n",
      "torch.Size([100, 9, 23, 23])\n",
      "torch.Size([100, 9, 11, 11])\n"
     ]
    },
    {
     "name": "stderr",
     "output_type": "stream",
     "text": [
      "\r",
      " 89%|████████████████████████████████████████████████████████████████████████         | 89/100 [13:47<01:30,  8.26s/it]"
     ]
    },
    {
     "name": "stdout",
     "output_type": "stream",
     "text": [
      "Loss: tensor(0.0113, grad_fn=<MseLossBackward>)\n",
      "torch.Size([100, 9, 23, 23])\n",
      "torch.Size([100, 9, 11, 11])\n"
     ]
    },
    {
     "name": "stderr",
     "output_type": "stream",
     "text": [
      "\r",
      " 90%|████████████████████████████████████████████████████████████████████████▉        | 90/100 [13:54<01:20,  8.04s/it]"
     ]
    },
    {
     "name": "stdout",
     "output_type": "stream",
     "text": [
      "Loss: tensor(0.0162, grad_fn=<MseLossBackward>)\n",
      "torch.Size([100, 9, 23, 23])\n",
      "torch.Size([100, 9, 11, 11])\n"
     ]
    },
    {
     "name": "stderr",
     "output_type": "stream",
     "text": [
      "\r",
      " 91%|█████████████████████████████████████████████████████████████████████████▋       | 91/100 [14:02<01:10,  7.89s/it]"
     ]
    },
    {
     "name": "stdout",
     "output_type": "stream",
     "text": [
      "Loss: tensor(0.0128, grad_fn=<MseLossBackward>)\n",
      "torch.Size([100, 9, 23, 23])\n",
      "torch.Size([100, 9, 11, 11])\n"
     ]
    },
    {
     "name": "stderr",
     "output_type": "stream",
     "text": [
      "\r",
      " 92%|██████████████████████████████████████████████████████████████████████████▌      | 92/100 [14:10<01:02,  7.80s/it]"
     ]
    },
    {
     "name": "stdout",
     "output_type": "stream",
     "text": [
      "Loss: tensor(0.0147, grad_fn=<MseLossBackward>)\n",
      "torch.Size([100, 9, 23, 23])\n",
      "torch.Size([100, 9, 11, 11])\n"
     ]
    },
    {
     "name": "stderr",
     "output_type": "stream",
     "text": [
      "\r",
      " 93%|███████████████████████████████████████████████████████████████████████████▎     | 93/100 [14:18<00:55,  7.99s/it]"
     ]
    },
    {
     "name": "stdout",
     "output_type": "stream",
     "text": [
      "Loss: tensor(0.0131, grad_fn=<MseLossBackward>)\n",
      "torch.Size([100, 9, 23, 23])\n",
      "torch.Size([100, 9, 11, 11])\n"
     ]
    },
    {
     "name": "stderr",
     "output_type": "stream",
     "text": [
      "\r",
      " 94%|████████████████████████████████████████████████████████████████████████████▏    | 94/100 [14:26<00:47,  7.96s/it]"
     ]
    },
    {
     "name": "stdout",
     "output_type": "stream",
     "text": [
      "Loss: tensor(0.0135, grad_fn=<MseLossBackward>)\n",
      "torch.Size([100, 9, 23, 23])\n",
      "torch.Size([100, 9, 11, 11])\n"
     ]
    },
    {
     "name": "stderr",
     "output_type": "stream",
     "text": [
      "\r",
      " 95%|████████████████████████████████████████████████████████████████████████████▉    | 95/100 [14:34<00:39,  8.00s/it]"
     ]
    },
    {
     "name": "stdout",
     "output_type": "stream",
     "text": [
      "Loss: tensor(0.0156, grad_fn=<MseLossBackward>)\n",
      "torch.Size([100, 9, 23, 23])\n",
      "torch.Size([100, 9, 11, 11])\n"
     ]
    },
    {
     "name": "stderr",
     "output_type": "stream",
     "text": [
      "\r",
      " 96%|█████████████████████████████████████████████████████████████████████████████▊   | 96/100 [14:43<00:33,  8.26s/it]"
     ]
    },
    {
     "name": "stdout",
     "output_type": "stream",
     "text": [
      "Loss: tensor(0.0128, grad_fn=<MseLossBackward>)\n",
      "torch.Size([100, 9, 23, 23])\n",
      "torch.Size([100, 9, 11, 11])\n"
     ]
    },
    {
     "name": "stderr",
     "output_type": "stream",
     "text": [
      "\r",
      " 97%|██████████████████████████████████████████████████████████████████████████████▌  | 97/100 [14:52<00:25,  8.50s/it]"
     ]
    },
    {
     "name": "stdout",
     "output_type": "stream",
     "text": [
      "Loss: tensor(0.0149, grad_fn=<MseLossBackward>)\n",
      "torch.Size([100, 9, 23, 23])\n",
      "torch.Size([100, 9, 11, 11])\n"
     ]
    },
    {
     "name": "stderr",
     "output_type": "stream",
     "text": [
      "\r",
      " 98%|███████████████████████████████████████████████████████████████████████████████▍ | 98/100 [15:00<00:16,  8.41s/it]"
     ]
    },
    {
     "name": "stdout",
     "output_type": "stream",
     "text": [
      "Loss: tensor(0.0134, grad_fn=<MseLossBackward>)\n",
      "torch.Size([100, 9, 23, 23])\n",
      "torch.Size([100, 9, 11, 11])\n"
     ]
    },
    {
     "name": "stderr",
     "output_type": "stream",
     "text": [
      "\r",
      " 99%|████████████████████████████████████████████████████████████████████████████████▏| 99/100 [15:08<00:08,  8.33s/it]"
     ]
    },
    {
     "name": "stdout",
     "output_type": "stream",
     "text": [
      "Loss: tensor(0.0138, grad_fn=<MseLossBackward>)\n",
      "torch.Size([100, 9, 23, 23])\n",
      "torch.Size([100, 9, 11, 11])\n"
     ]
    },
    {
     "name": "stderr",
     "output_type": "stream",
     "text": [
      "100%|████████████████████████████████████████████████████████████████████████████████| 100/100 [15:18<00:00,  9.18s/it]"
     ]
    },
    {
     "name": "stdout",
     "output_type": "stream",
     "text": [
      "Loss: tensor(0.0145, grad_fn=<MseLossBackward>)\n",
      "Epoch 1 \n",
      "1804.7241790294647\n"
     ]
    },
    {
     "name": "stderr",
     "output_type": "stream",
     "text": [
      "\n"
     ]
    }
   ],
   "source": [
    "import time\n",
    "start = time.time()\n",
    "train_model(trainloader,2,optimizer, r)\n",
    "print(time.time()-start)"
   ]
  },
  {
   "cell_type": "code",
   "execution_count": null,
   "metadata": {},
   "outputs": [],
   "source": []
  }
 ],
 "metadata": {
  "kernelspec": {
   "display_name": "Python 3",
   "language": "python",
   "name": "python3"
  },
  "language_info": {
   "codemirror_mode": {
    "name": "ipython",
    "version": 3
   },
   "file_extension": ".py",
   "mimetype": "text/x-python",
   "name": "python",
   "nbconvert_exporter": "python",
   "pygments_lexer": "ipython3",
   "version": "3.7.1"
  }
 },
 "nbformat": 4,
 "nbformat_minor": 2
}
